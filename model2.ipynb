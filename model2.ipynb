{
 "cells": [
  {
   "cell_type": "markdown",
   "metadata": {},
   "source": [
    "# LSTM Model for Next Word Prediction\n",
    "\n",
    "Reference: <br>\n",
    "https://towardsdatascience.com/exploring-the-next-word-predictor-5e22aeb85d8f"
   ]
  },
  {
   "cell_type": "code",
   "execution_count": 1,
   "metadata": {},
   "outputs": [],
   "source": [
    "import pickle\n",
    "import matplotlib.pyplot as plt\n",
    "from keras.models import Sequential, load_model\n",
    "from keras.layers import Dense\n",
    "from keras.layers import LSTM\n",
    "from keras.layers import Embedding\n",
    "from keras.preprocessing.text import Tokenizer\n",
    "import nltk\n",
    "from nltk.tokenize import word_tokenize\n",
    "import numpy as np\n",
    "import re\n",
    "from tensorflow.keras.utils import to_categorical\n",
    "\n",
    "\n",
    "from sherlock import sherlock\n",
    "from belling_the_cat import belling_the_cat\n",
    "from metamorphosis import metamorphosis"
   ]
  },
  {
   "cell_type": "markdown",
   "metadata": {},
   "source": [
    "## import and preprocess text data\n",
    "\n",
    "We need to assign a unique integer to each word or symbol because LSTM can only understand real numbers.\n",
    "\n",
    "Here we first create a feature dictionary `sequences`, which contains all the uniqure words. \n",
    "\n",
    "And then convert it to integers using the `tokenizer` package."
   ]
  },
  {
   "cell_type": "code",
   "execution_count": 2,
   "metadata": {},
   "outputs": [],
   "source": [
    "cleaned = re.sub(r'\\W+', ' ', metamorphosis).lower() # split the .txt into seprate words\n",
    "tokens = word_tokenize(cleaned)\n",
    "train_len = 3+1\n",
    "text_sequences = []\n",
    "for i in range(train_len,len(tokens)):\n",
    "    seq = tokens[i-train_len:i]\n",
    "    text_sequences.append(seq)\n",
    "sequences = {}\n",
    "count = 1\n",
    "for i in range(len(tokens)):\n",
    "    if tokens[i] not in sequences:\n",
    "        sequences[tokens[i]] = count\n",
    "        count += 1\n",
    "tokenizer = Tokenizer()\n",
    "tokenizer.fit_on_texts(text_sequences)\n",
    "sequences = tokenizer.texts_to_sequences(text_sequences) \n"
   ]
  },
  {
   "cell_type": "markdown",
   "metadata": {},
   "source": [
    "### Collecting some information of the data"
   ]
  },
  {
   "cell_type": "code",
   "execution_count": 3,
   "metadata": {},
   "outputs": [],
   "source": [
    "vocabulary_size = len(tokenizer.word_counts)+1\n",
    "\n",
    "n_sequences = np.empty([len(sequences),train_len], dtype='int32')\n",
    "for i in range(len(sequences)):\n",
    "    n_sequences[i] = sequences[i]"
   ]
  },
  {
   "cell_type": "markdown",
   "metadata": {},
   "source": [
    "### create training set \n",
    "\n",
    "Now we create our training data and target data by splitting the sequences into the inputs and output labels. \n",
    "\n",
    "Here we use the last 3 words to predict the next word. Thus the list of the first 3 words are inputs, and the list of the following word are labels.\n",
    "\n",
    "train_inputs: 第i行，第j列，对应到（第i个prev_word list的3个单词当中的第j个，的这个单词对应的index）是1，其余是0\n",
    "\n",
    "train_targets: 第i行，对应到（next_word list的第i个单词对应的index）是1，其余是0"
   ]
  },
  {
   "cell_type": "code",
   "execution_count": 4,
   "metadata": {},
   "outputs": [
    {
     "data": {
      "text/plain": [
       "(22372, 3)"
      ]
     },
     "execution_count": 4,
     "metadata": {},
     "output_type": "execute_result"
    }
   ],
   "source": [
    "train_inputs = n_sequences[:,:-1]\n",
    "train_targets = n_sequences[:,-1]\n",
    "train_targets = to_categorical(train_targets, num_classes=vocabulary_size)\n",
    "seq_len = train_inputs.shape[1]\n",
    "train_inputs.shape\n",
    "\n",
    "#print(train_targets[0])"
   ]
  },
  {
   "cell_type": "code",
   "execution_count": 5,
   "metadata": {},
   "outputs": [
    {
     "data": {
      "text/plain": [
       "3"
      ]
     },
     "execution_count": 5,
     "metadata": {},
     "output_type": "execute_result"
    }
   ],
   "source": [
    "seq_len"
   ]
  },
  {
   "cell_type": "markdown",
   "metadata": {},
   "source": [
    "## set up the model"
   ]
  },
  {
   "cell_type": "markdown",
   "metadata": {},
   "source": [
    "Build our model with an embedding layer and two stacked LSTM layers with 50 units, followed by two fully connected (dense) layers.\n",
    "\n",
    "The first dense layer has 50 units and the second dense layer is our output (softmax) layer and has the number of units equal to the vocabulary size. As for each input, the model will predict the next word from our vocabulary based on the probability. "
   ]
  },
  {
   "cell_type": "code",
   "execution_count": 6,
   "metadata": {
    "scrolled": false
   },
   "outputs": [
    {
     "name": "stdout",
     "output_type": "stream",
     "text": [
      "Model: \"sequential\"\n",
      "_________________________________________________________________\n",
      "Layer (type)                 Output Shape              Param #   \n",
      "=================================================================\n",
      "embedding (Embedding)        (None, 3, 3)              7716      \n",
      "_________________________________________________________________\n",
      "lstm (LSTM)                  (None, 3, 50)             10800     \n",
      "_________________________________________________________________\n",
      "lstm_1 (LSTM)                (None, 50)                20200     \n",
      "_________________________________________________________________\n",
      "dense (Dense)                (None, 50)                2550      \n",
      "_________________________________________________________________\n",
      "dense_1 (Dense)              (None, 2572)              131172    \n",
      "=================================================================\n",
      "Total params: 172,438\n",
      "Trainable params: 172,438\n",
      "Non-trainable params: 0\n",
      "_________________________________________________________________\n",
      "None\n"
     ]
    }
   ],
   "source": [
    "model = Sequential()\n",
    "model.add(Embedding(vocabulary_size, seq_len, input_length=seq_len))\n",
    "model.add(LSTM(50,return_sequences=True))\n",
    "model.add(LSTM(50))\n",
    "model.add(Dense(50,activation='relu'))\n",
    "model.add(Dense(vocabulary_size, activation='softmax'))\n",
    "print(model.summary())\n"
   ]
  },
  {
   "cell_type": "markdown",
   "metadata": {},
   "source": [
    "## train the model"
   ]
  },
  {
   "cell_type": "code",
   "execution_count": 7,
   "metadata": {
    "scrolled": true
   },
   "outputs": [
    {
     "name": "stdout",
     "output_type": "stream",
     "text": [
      "Epoch 1/20\n",
      "560/560 [==============================] - 6s 6ms/step - loss: 6.3301 - accuracy: 0.0510 - val_loss: 6.3021 - val_accuracy: 0.0489\n",
      "Epoch 2/20\n",
      "560/560 [==============================] - 3s 5ms/step - loss: 6.0040 - accuracy: 0.0519 - val_loss: 6.3648 - val_accuracy: 0.0489\n",
      "Epoch 3/20\n",
      "560/560 [==============================] - 3s 5ms/step - loss: 5.9745 - accuracy: 0.0519 - val_loss: 6.3945 - val_accuracy: 0.0489\n",
      "Epoch 4/20\n",
      "560/560 [==============================] - 3s 5ms/step - loss: 5.9557 - accuracy: 0.0519 - val_loss: 6.4400 - val_accuracy: 0.0489\n",
      "Epoch 5/20\n",
      "560/560 [==============================] - 3s 5ms/step - loss: 5.9350 - accuracy: 0.0519 - val_loss: 6.4289 - val_accuracy: 0.0489\n",
      "Epoch 6/20\n",
      "560/560 [==============================] - 3s 5ms/step - loss: 5.8637 - accuracy: 0.0519 - val_loss: 6.4369 - val_accuracy: 0.0489\n",
      "Epoch 7/20\n",
      "560/560 [==============================] - 3s 5ms/step - loss: 5.7876 - accuracy: 0.0530 - val_loss: 6.4513 - val_accuracy: 0.0514\n",
      "Epoch 8/20\n",
      "560/560 [==============================] - 3s 5ms/step - loss: 5.6288 - accuracy: 0.0554 - val_loss: 6.3868 - val_accuracy: 0.0539\n",
      "Epoch 9/20\n",
      "560/560 [==============================] - 3s 5ms/step - loss: 5.5135 - accuracy: 0.0598 - val_loss: 6.4163 - val_accuracy: 0.0536\n",
      "Epoch 10/20\n",
      "560/560 [==============================] - 3s 5ms/step - loss: 5.4257 - accuracy: 0.0664 - val_loss: 6.4305 - val_accuracy: 0.0646\n",
      "Epoch 11/20\n",
      "560/560 [==============================] - 4s 7ms/step - loss: 5.3265 - accuracy: 0.0734 - val_loss: 6.5154 - val_accuracy: 0.0679\n",
      "Epoch 12/20\n",
      "560/560 [==============================] - 3s 6ms/step - loss: 5.2382 - accuracy: 0.0787 - val_loss: 6.6095 - val_accuracy: 0.0744\n",
      "Epoch 13/20\n",
      "560/560 [==============================] - 3s 5ms/step - loss: 5.1617 - accuracy: 0.0833 - val_loss: 6.6010 - val_accuracy: 0.0769\n",
      "Epoch 14/20\n",
      "560/560 [==============================] - 3s 5ms/step - loss: 5.0838 - accuracy: 0.0886 - val_loss: 6.7109 - val_accuracy: 0.0827\n",
      "Epoch 15/20\n",
      "560/560 [==============================] - 3s 5ms/step - loss: 5.0132 - accuracy: 0.0915 - val_loss: 6.9059 - val_accuracy: 0.0789\n",
      "Epoch 16/20\n",
      "560/560 [==============================] - 3s 5ms/step - loss: 4.9470 - accuracy: 0.0950 - val_loss: 6.8750 - val_accuracy: 0.0782\n",
      "Epoch 17/20\n",
      "560/560 [==============================] - 3s 5ms/step - loss: 4.8866 - accuracy: 0.0982 - val_loss: 7.0769 - val_accuracy: 0.0836\n",
      "Epoch 18/20\n",
      "560/560 [==============================] - 3s 5ms/step - loss: 4.8256 - accuracy: 0.1001 - val_loss: 7.1308 - val_accuracy: 0.0865\n",
      "Epoch 19/20\n",
      "560/560 [==============================] - 3s 5ms/step - loss: 4.7690 - accuracy: 0.1031 - val_loss: 7.1401 - val_accuracy: 0.0840\n",
      "Epoch 20/20\n",
      "560/560 [==============================] - 3s 5ms/step - loss: 4.7103 - accuracy: 0.1066 - val_loss: 7.4108 - val_accuracy: 0.0834\n"
     ]
    }
   ],
   "source": [
    "# compile network\n",
    "model.compile(loss='categorical_crossentropy', optimizer='adam', metrics=['accuracy'])\n",
    "\n",
    "# shuffle?\n",
    "history = model.fit(train_inputs,train_targets,epochs=20,verbose=1,validation_split=0.2).history"
   ]
  },
  {
   "cell_type": "markdown",
   "metadata": {},
   "source": [
    "## save the model \n",
    "\n",
    "so that next time don't need to train again"
   ]
  },
  {
   "cell_type": "code",
   "execution_count": 8,
   "metadata": {},
   "outputs": [],
   "source": [
    "# save\n",
    "model.save('keras_next_word_model_2.h5')\n",
    "pickle.dump(history, open(\"history.p\", \"wb\"))"
   ]
  },
  {
   "cell_type": "code",
   "execution_count": 9,
   "metadata": {},
   "outputs": [],
   "source": [
    "# next time when using\n",
    "model = load_model('keras_next_word_model_2.h5')\n",
    "history = pickle.load(open(\"history.p\", \"rb\"))"
   ]
  },
  {
   "cell_type": "markdown",
   "metadata": {},
   "source": [
    "## evaluate the model \n",
    "\n",
    "by accruacy and loss"
   ]
  },
  {
   "cell_type": "code",
   "execution_count": 10,
   "metadata": {},
   "outputs": [
    {
     "data": {
      "text/plain": [
       "<matplotlib.legend.Legend at 0x7f86fc936c50>"
      ]
     },
     "execution_count": 10,
     "metadata": {},
     "output_type": "execute_result"
    },
    {
     "data": {
      "image/png": "[encoded data removed]",
      "text/plain": [
       "<Figure size 432x288 with 1 Axes>"
      ]
     },
     "metadata": {
      "needs_background": "light"
     },
     "output_type": "display_data"
    }
   ],
   "source": [
    "plt.plot(history['accuracy'])\n",
    "plt.plot(history['val_accuracy'])\n",
    "plt.title('model accuracy')\n",
    "plt.ylabel('accuracy')\n",
    "plt.xlabel('epoch')\n",
    "plt.legend(['train', 'validation'], loc='upper left')"
   ]
  },
  {
   "cell_type": "code",
   "execution_count": 11,
   "metadata": {},
   "outputs": [
    {
     "data": {
      "text/plain": [
       "<matplotlib.legend.Legend at 0x7f86fbe52290>"
      ]
     },
     "execution_count": 11,
     "metadata": {},
     "output_type": "execute_result"
    },
    {
     "data": {
      "image/png": "[encoded data removed]",
      "text/plain": [
       "<Figure size 432x288 with 1 Axes>"
      ]
     },
     "metadata": {
      "needs_background": "light"
     },
     "output_type": "display_data"
    }
   ],
   "source": [
    "plt.plot(history['loss'])\n",
    "plt.plot(history['val_loss'])\n",
    "plt.title('model loss')\n",
    "plt.ylabel('loss')\n",
    "plt.xlabel('epoch')\n",
    "plt.legend(['train', 'validation'], loc='upper left')"
   ]
  },
  {
   "cell_type": "markdown",
   "metadata": {},
   "source": [
    "## small trial example"
   ]
  },
  {
   "cell_type": "code",
   "execution_count": null,
   "metadata": {},
   "outputs": [],
   "source": [
    "from keras.preprocessing.sequence import pad_sequences\n",
    "input_text = input().strip().lower()\n",
    "encoded_text = tokenizer.texts_to_sequences([input_text])[0]\n",
    "pad_encoded = pad_sequences([encoded_text], maxlen=seq_len, truncating='pre')\n",
    "print(encoded_text, pad_encoded)\n",
    "for i in (model.predict(pad_encoded)[0]).argsort()[-3:][::-1]:\n",
    "  pred_word = tokenizer.index_word[i]\n",
    "  print(\"Next word suggestion:\",pred_word)"
   ]
  },
  {
   "cell_type": "code",
   "execution_count": null,
   "metadata": {},
   "outputs": [],
   "source": []
  },
  {
   "cell_type": "code",
   "execution_count": null,
   "metadata": {},
   "outputs": [],
   "source": []
  }
 ],
 "metadata": {
  "kernelspec": {
   "display_name": "Python 3",
   "language": "python",
   "name": "python3"
  },
  "language_info": {
   "codemirror_mode": {
    "name": "ipython",
    "version": 3
   },
   "file_extension": ".py",
   "mimetype": "text/x-python",
   "name": "python",
   "nbconvert_exporter": "python",
   "pygments_lexer": "ipython3",
   "version": "3.7.4"
  },
  "toc": {
   "base_numbering": 1,
   "nav_menu": {},
   "number_sections": true,
   "sideBar": true,
   "skip_h1_title": false,
   "title_cell": "Table of Contents",
   "title_sidebar": "Contents",
   "toc_cell": false,
   "toc_position": {},
   "toc_section_display": true,
   "toc_window_display": false
  }
 },
 "nbformat": 4,
 "nbformat_minor": 2
}
