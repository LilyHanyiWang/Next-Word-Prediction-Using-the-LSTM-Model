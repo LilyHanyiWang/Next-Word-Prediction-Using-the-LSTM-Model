{
 "cells": [
  {
   "cell_type": "markdown",
   "metadata": {},
   "source": [
    "![alt text](lstm_nwp.png \"lstm_nwp\")"
   ]
  },
  {
   "cell_type": "markdown",
   "metadata": {},
   "source": [
    "# LSTM Model for Next Word Prediction\n",
    "\n",
    "**Group 1 Lily Wang**\n",
    "\n",
    "Reference: <br>\n",
    "https://towardsdatascience.com/next-word-prediction-with-nlp-and-deep-learning-48b9fe0a17bf<br>\n",
    "https://towardsdatascience.com/exploring-the-next-word-predictor-5e22aeb85d8f<br>\n",
    "https://thecleverprogrammer.com/2020/07/20/next-word-prediction-model/<br>\n",
    "https://shiva-verma.medium.com/understanding-input-and-output-shape-in-lstm-keras-c501ee95c65e<br>"
   ]
  },
  {
   "cell_type": "code",
   "execution_count": 1,
   "metadata": {},
   "outputs": [],
   "source": [
    "import tensorflow as tf\n",
    "from tensorflow.keras.preprocessing.text import Tokenizer\n",
    "from tensorflow.keras.layers import Embedding, LSTM, Dense\n",
    "from tensorflow.keras.models import Sequential\n",
    "from tensorflow.keras.utils import to_categorical\n",
    "from tensorflow.keras.optimizers import Adam\n",
    "import pickle\n",
    "import numpy as np\n",
    "import os\n",
    "import matplotlib.pyplot as plt\n",
    "from tensorflow.keras.models import load_model"
   ]
  },
  {
   "cell_type": "markdown",
   "metadata": {},
   "source": [
    "## Data preprocessing\n",
    "### Clean the text\n",
    "convert to form for coding"
   ]
  },
  {
   "cell_type": "code",
   "execution_count": 2,
   "metadata": {},
   "outputs": [
    {
     "name": "stdout",
     "output_type": "stream",
     "text": [
      "The First Line:  ﻿One morning, when Gregor Samsa woke from troubled dreams, he found\n",
      "\n",
      "The Last Line:  first to get up and stretch out her young body.\n"
     ]
    }
   ],
   "source": [
    "# data set downloaded from 'https://github.com/Bharath-K3/Next-Word-Prediction-with-NLP-and-Deep-Learning'\n",
    "file = open(\"metamorphosis_clean.txt\", \"r\", encoding = \"utf8\")\n",
    "lines = [] # each line as an item in a long list\n",
    "\n",
    "for i in file:\n",
    "    lines.append(i)\n",
    "    \n",
    "print(\"The First Line: \", lines[0])\n",
    "print(\"The Last Line: \", lines[-1])"
   ]
  },
  {
   "cell_type": "code",
   "execution_count": 3,
   "metadata": {},
   "outputs": [
    {
     "data": {
      "text/plain": [
       "'One morning, when Gregor Samsa woke from troubled dreams, he found himself transformed in his bed into a horrible vermin.  He lay on his armour-like back, and if he lifted his head a little he could see his brown belly, slightly domed and divided by arches into stiff sections.  The bedding was hardly able to cover it and seemed ready to slide off any moment.'"
      ]
     },
     "execution_count": 3,
     "metadata": {},
     "output_type": "execute_result"
    }
   ],
   "source": [
    "data = \"\" # change the lines list into one full string\n",
    "\n",
    "for i in lines:\n",
    "    data = ' '. join(lines)\n",
    "    \n",
    "# delete line breaks, the carriage return, and the Unicode character\n",
    "data = data.replace('\\n', '').replace('\\r', '').replace('\\ufeff', '')\n",
    "data[:360]"
   ]
  },
  {
   "cell_type": "code",
   "execution_count": 4,
   "metadata": {},
   "outputs": [
    {
     "data": {
      "text/plain": [
       "'One morning  when Gregor Samsa woke from troubled dreams  he found himself transformed in his bed into a horrible vermin   He lay on his armour like back  and if he lifted his head a little he could see his brown belly  slightly domed and divided by arches into stiff sections   The bedding was hardly able to cover it and seemed ready to slide off any moment   His many legs  pitifully thin compared with the size of the rest of him  waved about helplessly as he looked    What s happened to me   he'"
      ]
     },
     "execution_count": 4,
     "metadata": {},
     "output_type": "execute_result"
    }
   ],
   "source": [
    "import string\n",
    "\n",
    "translator = str.maketrans(string.punctuation, ' '*len(string.punctuation)) #map punctuation to space\n",
    "new_data = data.translate(translator)\n",
    "\n",
    "new_data[:500]"
   ]
  },
  {
   "cell_type": "code",
   "execution_count": 5,
   "metadata": {},
   "outputs": [
    {
     "data": {
      "text/plain": [
       "'One morning, when Gregor Samsa woke from troubled dreams, he found himself transformed in his bed into a horrible vermin. He lay on armour-like back, and if lifted head little could see brown belly, slightly domed divided by arches stiff sections. The bedding was hardly able to cover it seemed ready slide off any moment. His many legs, pitifully thin compared with the size of rest him, waved about helplessly as looked. \"What\\'s happened me?\" thought. It wasn\\'t dream. room, proper human room altho'"
      ]
     },
     "execution_count": 5,
     "metadata": {},
     "output_type": "execute_result"
    }
   ],
   "source": [
    "z = []\n",
    "\n",
    "for i in data.split():\n",
    "    if i not in z:\n",
    "        z.append(i)\n",
    "        \n",
    "data = ' '.join(z)\n",
    "data[:500]"
   ]
  },
  {
   "cell_type": "code",
   "execution_count": 6,
   "metadata": {},
   "outputs": [
    {
     "data": {
      "text/plain": [
       "29361"
      ]
     },
     "execution_count": 6,
     "metadata": {},
     "output_type": "execute_result"
    }
   ],
   "source": [
    "len(data)"
   ]
  },
  {
   "cell_type": "markdown",
   "metadata": {},
   "source": [
    "### Tokenization"
   ]
  },
  {
   "cell_type": "code",
   "execution_count": 7,
   "metadata": {},
   "outputs": [
    {
     "data": {
      "text/plain": [
       "[17, 53, 293, 2, 18, 729, 135, 730, 294, 8]"
      ]
     },
     "execution_count": 7,
     "metadata": {},
     "output_type": "execute_result"
    }
   ],
   "source": [
    "tokenizer = Tokenizer()\n",
    "tokenizer.fit_on_texts([data])\n",
    "\n",
    "# saving the tokenizer for predict function.\n",
    "pickle.dump(tokenizer, open('tokenizer1.pkl', 'wb'))\n",
    "\n",
    "sequence_data = tokenizer.texts_to_sequences([data])[0]\n",
    "sequence_data[:10] # 一整个vector，每个数字对应一个单词或符号，它就是整个文本的数字版"
   ]
  },
  {
   "cell_type": "code",
   "execution_count": 8,
   "metadata": {},
   "outputs": [
    {
     "name": "stdout",
     "output_type": "stream",
     "text": [
      "2617\n"
     ]
    }
   ],
   "source": [
    "vocab_size = len(tokenizer.word_index) + 1\n",
    "print(vocab_size)"
   ]
  },
  {
   "cell_type": "code",
   "execution_count": 9,
   "metadata": {},
   "outputs": [
    {
     "name": "stdout",
     "output_type": "stream",
     "text": [
      "The Length of sequences are:  3889\n"
     ]
    },
    {
     "data": {
      "text/plain": [
       "array([[ 17,  53],\n",
       "       [ 53, 293],\n",
       "       [293,   2],\n",
       "       [  2,  18],\n",
       "       [ 18, 729],\n",
       "       [729, 135],\n",
       "       [135, 730],\n",
       "       [730, 294],\n",
       "       [294,   8],\n",
       "       [  8, 731]])"
      ]
     },
     "execution_count": 9,
     "metadata": {},
     "output_type": "execute_result"
    }
   ],
   "source": [
    "sequences = []\n",
    "\n",
    "for i in range(1, len(sequence_data)):\n",
    "    words = sequence_data[i-1:i+1]\n",
    "    sequences.append(words)\n",
    "    \n",
    "print(\"The Length of sequences are: \", len(sequences))\n",
    "sequences = np.array(sequences)\n",
    "sequences[:10] # 两个数字一对儿，代表前一个单词和后一个单词。即用前一个词估计下一个词"
   ]
  },
  {
   "cell_type": "code",
   "execution_count": 10,
   "metadata": {},
   "outputs": [],
   "source": [
    "X = []\n",
    "y = []\n",
    "\n",
    "for i in sequences:\n",
    "    X.append(i[0])\n",
    "    y.append(i[1])\n",
    "    \n",
    "X = np.array(X)\n",
    "y = np.array(y)"
   ]
  },
  {
   "cell_type": "code",
   "execution_count": 11,
   "metadata": {},
   "outputs": [
    {
     "name": "stdout",
     "output_type": "stream",
     "text": [
      "The Data is:  [ 17  53 293   2  18]\n",
      "The responses are:  [ 53 293   2  18 729]\n"
     ]
    }
   ],
   "source": [
    "print(\"The Data is: \", X[:5])\n",
    "print(\"The responses are: \", y[:5])"
   ]
  },
  {
   "cell_type": "code",
   "execution_count": 12,
   "metadata": {},
   "outputs": [
    {
     "data": {
      "text/plain": [
       "array([[0., 0., 0., ..., 0., 0., 0.],\n",
       "       [0., 0., 0., ..., 0., 0., 0.],\n",
       "       [0., 0., 1., ..., 0., 0., 0.],\n",
       "       [0., 0., 0., ..., 0., 0., 0.],\n",
       "       [0., 0., 0., ..., 0., 0., 0.]], dtype=float32)"
      ]
     },
     "execution_count": 12,
     "metadata": {},
     "output_type": "execute_result"
    }
   ],
   "source": [
    "y = to_categorical(y, num_classes=vocab_size) \n",
    "y[:5]"
   ]
  },
  {
   "cell_type": "markdown",
   "metadata": {},
   "source": [
    "## Create model"
   ]
  },
  {
   "cell_type": "code",
   "execution_count": 13,
   "metadata": {},
   "outputs": [],
   "source": [
    "model = Sequential()\n",
    "model.add(Embedding(vocab_size, 10, input_length=1))\n",
    "model.add(LSTM(1000, return_sequences=True))\n",
    "model.add(LSTM(1000))\n",
    "model.add(Dense(1000, activation=\"relu\"))\n",
    "model.add(Dense(vocab_size, activation=\"softmax\"))"
   ]
  },
  {
   "cell_type": "code",
   "execution_count": 14,
   "metadata": {},
   "outputs": [
    {
     "name": "stdout",
     "output_type": "stream",
     "text": [
      "Model: \"sequential\"\n",
      "_________________________________________________________________\n",
      "Layer (type)                 Output Shape              Param #   \n",
      "=================================================================\n",
      "embedding (Embedding)        (None, 1, 10)             26170     \n",
      "_________________________________________________________________\n",
      "lstm (LSTM)                  (None, 1, 1000)           4044000   \n",
      "_________________________________________________________________\n",
      "lstm_1 (LSTM)                (None, 1000)              8004000   \n",
      "_________________________________________________________________\n",
      "dense (Dense)                (None, 1000)              1001000   \n",
      "_________________________________________________________________\n",
      "dense_1 (Dense)              (None, 2617)              2619617   \n",
      "=================================================================\n",
      "Total params: 15,694,787\n",
      "Trainable params: 15,694,787\n",
      "Non-trainable params: 0\n",
      "_________________________________________________________________\n"
     ]
    }
   ],
   "source": [
    "model.summary()"
   ]
  },
  {
   "cell_type": "code",
   "execution_count": 15,
   "metadata": {},
   "outputs": [
    {
     "data": {
      "image/png": "[encoded data removed]",
      "text/plain": [
       "<IPython.core.display.Image object>"
      ]
     },
     "execution_count": 15,
     "metadata": {},
     "output_type": "execute_result"
    }
   ],
   "source": [
    "from tensorflow import keras\n",
    "from keras.utils.vis_utils import plot_model\n",
    "\n",
    "keras.utils.plot_model(model, to_file='model.png', show_layer_names=True)"
   ]
  },
  {
   "cell_type": "markdown",
   "metadata": {},
   "source": [
    "### Callbacks:\n",
    "\n",
    "ModelCheckpoint — This callback is used for storing the weights of our model after training. We save only the best weights of our model by specifying save_best_only=True. We will monitor our training by using the loss metric.\n",
    "\n",
    "ReduceLROnPlateau — This callback is used for reducing the learning rate of the optimizer after a specified number of epochs. Here, we have specified the patience as 3. If the accuracy does not improve after 3 epochs, then our learning rate is reduced accordingly by a factor of 0.2. The metric used for monitoring here is loss as well.\n"
   ]
  },
  {
   "cell_type": "code",
   "execution_count": 16,
   "metadata": {},
   "outputs": [],
   "source": [
    "from tensorflow.keras.callbacks import ModelCheckpoint\n",
    "from tensorflow.keras.callbacks import ReduceLROnPlateau\n",
    "from tensorflow.keras.callbacks import TensorBoard\n",
    "\n",
    "checkpoint = ModelCheckpoint(\"nextword1.h5\", monitor='loss', verbose=1,\n",
    "    save_best_only=True, mode='auto')\n",
    "\n",
    "reduce = ReduceLROnPlateau(monitor='loss', factor=0.2, patience=3, min_lr=0.0001, verbose = 1)\n",
    "\n",
    "logdir='logsnextword1'\n",
    "tensorboard_Visualization = TensorBoard(log_dir=logdir)"
   ]
  },
  {
   "cell_type": "markdown",
   "metadata": {},
   "source": [
    "## Fit model"
   ]
  },
  {
   "cell_type": "code",
   "execution_count": 17,
   "metadata": {},
   "outputs": [
    {
     "name": "stderr",
     "output_type": "stream",
     "text": [
      "/Users/hanyiwang/opt/anaconda3/lib/python3.7/site-packages/keras/optimizer_v2/optimizer_v2.py:356: UserWarning: The `lr` argument is deprecated, use `learning_rate` instead.\n",
      "  \"The `lr` argument is deprecated, use `learning_rate` instead.\")\n"
     ]
    }
   ],
   "source": [
    "model.compile(loss=\"categorical_crossentropy\", optimizer=Adam(lr=0.001),metrics=['accuracy'])"
   ]
  },
  {
   "cell_type": "code",
   "execution_count": 18,
   "metadata": {
    "scrolled": true
   },
   "outputs": [
    {
     "name": "stdout",
     "output_type": "stream",
     "text": [
      "Epoch 1/150\n",
      "49/49 [==============================] - 7s 94ms/step - loss: 7.8729 - accuracy: 9.6432e-04 - val_loss: 7.8831 - val_accuracy: 0.0013\n",
      "\n",
      "Epoch 00001: loss improved from inf to 7.87290, saving model to nextword1.h5\n",
      "Epoch 2/150\n",
      "49/49 [==============================] - 4s 83ms/step - loss: 7.8321 - accuracy: 0.0026 - val_loss: 8.1252 - val_accuracy: 0.0026\n",
      "\n",
      "Epoch 00002: loss improved from 7.87290 to 7.83209, saving model to nextword1.h5\n",
      "Epoch 3/150\n",
      "49/49 [==============================] - 4s 79ms/step - loss: 7.7417 - accuracy: 0.0039 - val_loss: 8.4485 - val_accuracy: 0.0026\n",
      "\n",
      "Epoch 00003: loss improved from 7.83209 to 7.74169, saving model to nextword1.h5\n",
      "Epoch 4/150\n",
      "49/49 [==============================] - 4s 82ms/step - loss: 7.5047 - accuracy: 0.0029 - val_loss: 8.9398 - val_accuracy: 0.0026\n",
      "\n",
      "Epoch 00004: loss improved from 7.74169 to 7.50467, saving model to nextword1.h5\n",
      "Epoch 5/150\n",
      "49/49 [==============================] - 4s 84ms/step - loss: 7.2861 - accuracy: 0.0019 - val_loss: 9.3218 - val_accuracy: 0.0026\n",
      "\n",
      "Epoch 00005: loss improved from 7.50467 to 7.28613, saving model to nextword1.h5\n",
      "Epoch 6/150\n",
      "49/49 [==============================] - 4s 83ms/step - loss: 7.1037 - accuracy: 0.0035 - val_loss: 9.9078 - val_accuracy: 0.0026\n",
      "\n",
      "Epoch 00006: loss improved from 7.28613 to 7.10369, saving model to nextword1.h5\n",
      "Epoch 7/150\n",
      "49/49 [==============================] - 4s 79ms/step - loss: 6.9793 - accuracy: 0.0019 - val_loss: 10.0914 - val_accuracy: 0.0013\n",
      "\n",
      "Epoch 00007: loss improved from 7.10369 to 6.97932, saving model to nextword1.h5\n",
      "Epoch 8/150\n",
      "49/49 [==============================] - 4s 81ms/step - loss: 6.8629 - accuracy: 0.0023 - val_loss: 10.6990 - val_accuracy: 0.0013\n",
      "\n",
      "Epoch 00008: loss improved from 6.97932 to 6.86289, saving model to nextword1.h5\n",
      "Epoch 9/150\n",
      "49/49 [==============================] - 4s 82ms/step - loss: 6.7171 - accuracy: 0.0058 - val_loss: 11.7343 - val_accuracy: 0.0013\n",
      "\n",
      "Epoch 00009: loss improved from 6.86289 to 6.71711, saving model to nextword1.h5\n",
      "Epoch 10/150\n",
      "49/49 [==============================] - 4s 82ms/step - loss: 6.5155 - accuracy: 0.0032 - val_loss: 12.4488 - val_accuracy: 0.0000e+00\n",
      "\n",
      "Epoch 00010: loss improved from 6.71711 to 6.51547, saving model to nextword1.h5\n",
      "Epoch 11/150\n",
      "49/49 [==============================] - 4s 80ms/step - loss: 6.2963 - accuracy: 0.0051 - val_loss: 13.3850 - val_accuracy: 0.0000e+00\n",
      "\n",
      "Epoch 00011: loss improved from 6.51547 to 6.29626, saving model to nextword1.h5\n",
      "Epoch 12/150\n",
      "49/49 [==============================] - 4s 85ms/step - loss: 6.0613 - accuracy: 0.0064 - val_loss: 14.4088 - val_accuracy: 0.0000e+00\n",
      "\n",
      "Epoch 00012: loss improved from 6.29626 to 6.06131, saving model to nextword1.h5\n",
      "Epoch 13/150\n",
      "49/49 [==============================] - 4s 86ms/step - loss: 5.8358 - accuracy: 0.0125 - val_loss: 15.3015 - val_accuracy: 0.0000e+00\n",
      "\n",
      "Epoch 00013: loss improved from 6.06131 to 5.83576, saving model to nextword1.h5\n",
      "Epoch 14/150\n",
      "49/49 [==============================] - 5s 100ms/step - loss: 5.6268 - accuracy: 0.0138 - val_loss: 16.3430 - val_accuracy: 0.0000e+00\n",
      "\n",
      "Epoch 00014: loss improved from 5.83576 to 5.62682, saving model to nextword1.h5\n",
      "Epoch 15/150\n",
      "49/49 [==============================] - 4s 83ms/step - loss: 5.4299 - accuracy: 0.0183 - val_loss: 17.6807 - val_accuracy: 0.0000e+00\n",
      "\n",
      "Epoch 00015: loss improved from 5.62682 to 5.42991, saving model to nextword1.h5\n",
      "Epoch 16/150\n",
      "49/49 [==============================] - 4s 89ms/step - loss: 5.2593 - accuracy: 0.0206 - val_loss: 19.1937 - val_accuracy: 0.0000e+00\n",
      "\n",
      "Epoch 00016: loss improved from 5.42991 to 5.25930, saving model to nextword1.h5\n",
      "Epoch 17/150\n",
      "49/49 [==============================] - 4s 83ms/step - loss: 5.1151 - accuracy: 0.0225 - val_loss: 19.9789 - val_accuracy: 0.0000e+00\n",
      "\n",
      "Epoch 00017: loss improved from 5.25930 to 5.11509, saving model to nextword1.h5\n",
      "Epoch 18/150\n",
      "49/49 [==============================] - 4s 86ms/step - loss: 4.9902 - accuracy: 0.0254 - val_loss: 20.4457 - val_accuracy: 0.0000e+00\n",
      "\n",
      "Epoch 00018: loss improved from 5.11509 to 4.99020, saving model to nextword1.h5\n",
      "Epoch 19/150\n",
      "49/49 [==============================] - 4s 89ms/step - loss: 4.8856 - accuracy: 0.0293 - val_loss: 21.1674 - val_accuracy: 0.0000e+00\n",
      "\n",
      "Epoch 00019: loss improved from 4.99020 to 4.88560, saving model to nextword1.h5\n",
      "Epoch 20/150\n",
      "49/49 [==============================] - 4s 85ms/step - loss: 4.7830 - accuracy: 0.0305 - val_loss: 22.7582 - val_accuracy: 0.0000e+00\n",
      "\n",
      "Epoch 00020: loss improved from 4.88560 to 4.78300, saving model to nextword1.h5\n",
      "Epoch 21/150\n",
      "49/49 [==============================] - 4s 85ms/step - loss: 4.6869 - accuracy: 0.0325 - val_loss: 22.2100 - val_accuracy: 0.0000e+00\n",
      "\n",
      "Epoch 00021: loss improved from 4.78300 to 4.68690, saving model to nextword1.h5\n",
      "Epoch 22/150\n",
      "49/49 [==============================] - 4s 86ms/step - loss: 4.5686 - accuracy: 0.0460 - val_loss: 23.8422 - val_accuracy: 0.0000e+00\n",
      "\n",
      "Epoch 00022: loss improved from 4.68690 to 4.56857, saving model to nextword1.h5\n",
      "Epoch 23/150\n",
      "49/49 [==============================] - 4s 85ms/step - loss: 4.5053 - accuracy: 0.0450 - val_loss: 24.5116 - val_accuracy: 0.0000e+00\n",
      "\n",
      "Epoch 00023: loss improved from 4.56857 to 4.50531, saving model to nextword1.h5\n",
      "Epoch 24/150\n",
      "49/49 [==============================] - 4s 82ms/step - loss: 4.4333 - accuracy: 0.0501 - val_loss: 24.6019 - val_accuracy: 0.0000e+00\n",
      "\n",
      "Epoch 00024: loss improved from 4.50531 to 4.43334, saving model to nextword1.h5\n",
      "Epoch 25/150\n",
      "49/49 [==============================] - 4s 80ms/step - loss: 4.3597 - accuracy: 0.0563 - val_loss: 25.0766 - val_accuracy: 0.0000e+00\n",
      "\n",
      "Epoch 00025: loss improved from 4.43334 to 4.35966, saving model to nextword1.h5\n",
      "Epoch 26/150\n",
      "49/49 [==============================] - 4s 88ms/step - loss: 4.2948 - accuracy: 0.0553 - val_loss: 26.2163 - val_accuracy: 0.0000e+00\n",
      "\n",
      "Epoch 00026: loss improved from 4.35966 to 4.29480, saving model to nextword1.h5\n",
      "Epoch 27/150\n",
      "49/49 [==============================] - 4s 86ms/step - loss: 4.2434 - accuracy: 0.0559 - val_loss: 26.2256 - val_accuracy: 0.0000e+00\n",
      "\n",
      "Epoch 00027: loss improved from 4.29480 to 4.24339, saving model to nextword1.h5\n",
      "Epoch 28/150\n",
      "49/49 [==============================] - 4s 85ms/step - loss: 4.1613 - accuracy: 0.0646 - val_loss: 27.0454 - val_accuracy: 0.0000e+00\n",
      "\n",
      "Epoch 00028: loss improved from 4.24339 to 4.16129, saving model to nextword1.h5\n",
      "Epoch 29/150\n",
      "49/49 [==============================] - 4s 83ms/step - loss: 4.1031 - accuracy: 0.0681 - val_loss: 27.4432 - val_accuracy: 0.0000e+00\n",
      "\n",
      "Epoch 00029: loss improved from 4.16129 to 4.10315, saving model to nextword1.h5\n",
      "Epoch 30/150\n",
      "49/49 [==============================] - 4s 82ms/step - loss: 4.0723 - accuracy: 0.0691 - val_loss: 27.3695 - val_accuracy: 0.0000e+00\n",
      "\n",
      "Epoch 00030: loss improved from 4.10315 to 4.07232, saving model to nextword1.h5\n",
      "Epoch 31/150\n",
      "49/49 [==============================] - 4s 80ms/step - loss: 4.0098 - accuracy: 0.0704 - val_loss: 28.2316 - val_accuracy: 0.0000e+00\n",
      "\n",
      "Epoch 00031: loss improved from 4.07232 to 4.00977, saving model to nextword1.h5\n",
      "Epoch 32/150\n",
      "49/49 [==============================] - 4s 79ms/step - loss: 3.9993 - accuracy: 0.0707 - val_loss: 28.2308 - val_accuracy: 0.0000e+00\n",
      "\n",
      "Epoch 00032: loss improved from 4.00977 to 3.99929, saving model to nextword1.h5\n",
      "Epoch 33/150\n",
      "49/49 [==============================] - 4s 84ms/step - loss: 3.9538 - accuracy: 0.0669 - val_loss: 28.6533 - val_accuracy: 0.0000e+00\n",
      "\n",
      "Epoch 00033: loss improved from 3.99929 to 3.95380, saving model to nextword1.h5\n",
      "Epoch 34/150\n",
      "49/49 [==============================] - 4s 84ms/step - loss: 3.8770 - accuracy: 0.0775 - val_loss: 28.8676 - val_accuracy: 0.0000e+00\n",
      "\n",
      "Epoch 00034: loss improved from 3.95380 to 3.87702, saving model to nextword1.h5\n",
      "Epoch 35/150\n",
      "49/49 [==============================] - 4s 83ms/step - loss: 3.8241 - accuracy: 0.0820 - val_loss: 29.3020 - val_accuracy: 0.0000e+00\n",
      "\n",
      "Epoch 00035: loss improved from 3.87702 to 3.82413, saving model to nextword1.h5\n",
      "Epoch 36/150\n",
      "49/49 [==============================] - 4s 83ms/step - loss: 3.8264 - accuracy: 0.0733 - val_loss: 29.7022 - val_accuracy: 0.0000e+00\n",
      "\n",
      "Epoch 00036: loss did not improve from 3.82413\n",
      "Epoch 37/150\n"
     ]
    },
    {
     "name": "stdout",
     "output_type": "stream",
     "text": [
      "49/49 [==============================] - 4s 85ms/step - loss: 3.8220 - accuracy: 0.0842 - val_loss: 29.5113 - val_accuracy: 0.0000e+00\n",
      "\n",
      "Epoch 00037: loss improved from 3.82413 to 3.82196, saving model to nextword1.h5\n",
      "Epoch 38/150\n",
      "49/49 [==============================] - 4s 83ms/step - loss: 3.7388 - accuracy: 0.0839 - val_loss: 29.9706 - val_accuracy: 0.0000e+00\n",
      "\n",
      "Epoch 00038: loss improved from 3.82196 to 3.73877, saving model to nextword1.h5\n",
      "Epoch 39/150\n",
      "49/49 [==============================] - 4s 85ms/step - loss: 3.7020 - accuracy: 0.0849 - val_loss: 30.4226 - val_accuracy: 0.0000e+00\n",
      "\n",
      "Epoch 00039: loss improved from 3.73877 to 3.70199, saving model to nextword1.h5\n",
      "Epoch 40/150\n",
      "49/49 [==============================] - 4s 82ms/step - loss: 3.6818 - accuracy: 0.0935 - val_loss: 30.7536 - val_accuracy: 0.0000e+00\n",
      "\n",
      "Epoch 00040: loss improved from 3.70199 to 3.68176, saving model to nextword1.h5\n",
      "Epoch 41/150\n",
      "49/49 [==============================] - 4s 84ms/step - loss: 3.6487 - accuracy: 0.0942 - val_loss: 31.0679 - val_accuracy: 0.0000e+00\n",
      "\n",
      "Epoch 00041: loss improved from 3.68176 to 3.64871, saving model to nextword1.h5\n",
      "Epoch 42/150\n",
      "49/49 [==============================] - 4s 82ms/step - loss: 3.5903 - accuracy: 0.0974 - val_loss: 31.2427 - val_accuracy: 0.0000e+00\n",
      "\n",
      "Epoch 00042: loss improved from 3.64871 to 3.59033, saving model to nextword1.h5\n",
      "Epoch 43/150\n",
      "49/49 [==============================] - 4s 81ms/step - loss: 3.5780 - accuracy: 0.0926 - val_loss: 31.0146 - val_accuracy: 0.0000e+00\n",
      "\n",
      "Epoch 00043: loss improved from 3.59033 to 3.57797, saving model to nextword1.h5\n",
      "Epoch 44/150\n",
      "49/49 [==============================] - 4s 88ms/step - loss: 3.5254 - accuracy: 0.1009 - val_loss: 32.0260 - val_accuracy: 0.0000e+00\n",
      "\n",
      "Epoch 00044: loss improved from 3.57797 to 3.52544, saving model to nextword1.h5\n",
      "Epoch 45/150\n",
      "49/49 [==============================] - 4s 83ms/step - loss: 3.4945 - accuracy: 0.1054 - val_loss: 32.5385 - val_accuracy: 0.0000e+00\n",
      "\n",
      "Epoch 00045: loss improved from 3.52544 to 3.49451, saving model to nextword1.h5\n",
      "Epoch 46/150\n",
      "49/49 [==============================] - 4s 82ms/step - loss: 3.4889 - accuracy: 0.1003 - val_loss: 32.3610 - val_accuracy: 0.0013\n",
      "\n",
      "Epoch 00046: loss improved from 3.49451 to 3.48889, saving model to nextword1.h5\n",
      "Epoch 47/150\n",
      "49/49 [==============================] - 4s 82ms/step - loss: 3.4654 - accuracy: 0.1080 - val_loss: 32.3765 - val_accuracy: 0.0000e+00\n",
      "\n",
      "Epoch 00047: loss improved from 3.48889 to 3.46535, saving model to nextword1.h5\n",
      "Epoch 48/150\n",
      "49/49 [==============================] - 4s 80ms/step - loss: 3.4094 - accuracy: 0.1160 - val_loss: 32.9985 - val_accuracy: 0.0000e+00\n",
      "\n",
      "Epoch 00048: loss improved from 3.46535 to 3.40937, saving model to nextword1.h5\n",
      "Epoch 49/150\n",
      "49/49 [==============================] - 5s 94ms/step - loss: 3.3945 - accuracy: 0.1173 - val_loss: 33.4382 - val_accuracy: 0.0000e+00\n",
      "\n",
      "Epoch 00049: loss improved from 3.40937 to 3.39449, saving model to nextword1.h5\n",
      "Epoch 50/150\n",
      "49/49 [==============================] - 4s 89ms/step - loss: 3.4005 - accuracy: 0.1125 - val_loss: 33.5839 - val_accuracy: 0.0000e+00\n",
      "\n",
      "Epoch 00050: loss did not improve from 3.39449\n",
      "Epoch 51/150\n",
      "49/49 [==============================] - 4s 85ms/step - loss: 3.3502 - accuracy: 0.1167 - val_loss: 33.7872 - val_accuracy: 0.0000e+00\n",
      "\n",
      "Epoch 00051: loss improved from 3.39449 to 3.35017, saving model to nextword1.h5\n",
      "Epoch 52/150\n",
      "49/49 [==============================] - 4s 82ms/step - loss: 3.3141 - accuracy: 0.1218 - val_loss: 33.4322 - val_accuracy: 0.0000e+00\n",
      "\n",
      "Epoch 00052: loss improved from 3.35017 to 3.31406, saving model to nextword1.h5\n",
      "Epoch 53/150\n",
      "49/49 [==============================] - 4s 87ms/step - loss: 3.2770 - accuracy: 0.1189 - val_loss: 33.6895 - val_accuracy: 0.0000e+00\n",
      "\n",
      "Epoch 00053: loss improved from 3.31406 to 3.27700, saving model to nextword1.h5\n",
      "Epoch 54/150\n",
      "49/49 [==============================] - 4s 84ms/step - loss: 3.2072 - accuracy: 0.1318 - val_loss: 34.0749 - val_accuracy: 0.0000e+00\n",
      "\n",
      "Epoch 00054: loss improved from 3.27700 to 3.20724, saving model to nextword1.h5\n",
      "Epoch 55/150\n",
      "49/49 [==============================] - 4s 81ms/step - loss: 3.1846 - accuracy: 0.1302 - val_loss: 34.9691 - val_accuracy: 0.0000e+00\n",
      "\n",
      "Epoch 00055: loss improved from 3.20724 to 3.18460, saving model to nextword1.h5\n",
      "Epoch 56/150\n",
      "49/49 [==============================] - 4s 83ms/step - loss: 3.1334 - accuracy: 0.1520 - val_loss: 35.4701 - val_accuracy: 0.0000e+00\n",
      "\n",
      "Epoch 00056: loss improved from 3.18460 to 3.13339, saving model to nextword1.h5\n",
      "Epoch 57/150\n",
      "49/49 [==============================] - 4s 77ms/step - loss: 3.0971 - accuracy: 0.1520 - val_loss: 35.8471 - val_accuracy: 0.0000e+00\n",
      "\n",
      "Epoch 00057: loss improved from 3.13339 to 3.09709, saving model to nextword1.h5\n",
      "Epoch 58/150\n",
      "49/49 [==============================] - 4s 82ms/step - loss: 3.0389 - accuracy: 0.1559 - val_loss: 36.1983 - val_accuracy: 0.0000e+00\n",
      "\n",
      "Epoch 00058: loss improved from 3.09709 to 3.03887, saving model to nextword1.h5\n",
      "Epoch 59/150\n",
      "49/49 [==============================] - 4s 80ms/step - loss: 2.9810 - accuracy: 0.1617 - val_loss: 36.5733 - val_accuracy: 0.0000e+00\n",
      "\n",
      "Epoch 00059: loss improved from 3.03887 to 2.98103, saving model to nextword1.h5\n",
      "Epoch 60/150\n",
      "49/49 [==============================] - 4s 83ms/step - loss: 2.9268 - accuracy: 0.1720 - val_loss: 36.8071 - val_accuracy: 0.0000e+00\n",
      "\n",
      "Epoch 00060: loss improved from 2.98103 to 2.92683, saving model to nextword1.h5\n",
      "Epoch 61/150\n",
      "49/49 [==============================] - 4s 87ms/step - loss: 2.8548 - accuracy: 0.1787 - val_loss: 36.9927 - val_accuracy: 0.0000e+00\n",
      "\n",
      "Epoch 00061: loss improved from 2.92683 to 2.85479, saving model to nextword1.h5\n",
      "Epoch 62/150\n",
      "49/49 [==============================] - 4s 84ms/step - loss: 2.7859 - accuracy: 0.1980 - val_loss: 37.9941 - val_accuracy: 0.0000e+00\n",
      "\n",
      "Epoch 00062: loss improved from 2.85479 to 2.78587, saving model to nextword1.h5\n",
      "Epoch 63/150\n",
      "49/49 [==============================] - 4s 82ms/step - loss: 2.6818 - accuracy: 0.2044 - val_loss: 38.9969 - val_accuracy: 0.0000e+00\n",
      "\n",
      "Epoch 00063: loss improved from 2.78587 to 2.68181, saving model to nextword1.h5\n",
      "Epoch 64/150\n",
      "49/49 [==============================] - 4s 83ms/step - loss: 2.6050 - accuracy: 0.2298 - val_loss: 38.9840 - val_accuracy: 0.0000e+00\n",
      "\n",
      "Epoch 00064: loss improved from 2.68181 to 2.60504, saving model to nextword1.h5\n",
      "Epoch 65/150\n",
      "49/49 [==============================] - 4s 85ms/step - loss: 2.5464 - accuracy: 0.2385 - val_loss: 39.6118 - val_accuracy: 0.0000e+00\n",
      "\n",
      "Epoch 00065: loss improved from 2.60504 to 2.54643, saving model to nextword1.h5\n",
      "Epoch 66/150\n",
      "49/49 [==============================] - 4s 82ms/step - loss: 2.5203 - accuracy: 0.2459 - val_loss: 39.0055 - val_accuracy: 0.0000e+00\n",
      "\n",
      "Epoch 00066: loss improved from 2.54643 to 2.52030, saving model to nextword1.h5\n",
      "Epoch 67/150\n",
      "49/49 [==============================] - 4s 86ms/step - loss: 2.4373 - accuracy: 0.2504 - val_loss: 40.4604 - val_accuracy: 0.0000e+00\n",
      "\n",
      "Epoch 00067: loss improved from 2.52030 to 2.43726, saving model to nextword1.h5\n",
      "Epoch 68/150\n",
      "49/49 [==============================] - 4s 84ms/step - loss: 2.3931 - accuracy: 0.2623 - val_loss: 40.3428 - val_accuracy: 0.0000e+00\n",
      "\n",
      "Epoch 00068: loss improved from 2.43726 to 2.39314, saving model to nextword1.h5\n",
      "Epoch 69/150\n",
      "49/49 [==============================] - 4s 84ms/step - loss: 2.3414 - accuracy: 0.2636 - val_loss: 40.4098 - val_accuracy: 0.0000e+00\n",
      "\n",
      "Epoch 00069: loss improved from 2.39314 to 2.34137, saving model to nextword1.h5\n",
      "Epoch 70/150\n",
      "49/49 [==============================] - 4s 83ms/step - loss: 2.2882 - accuracy: 0.2745 - val_loss: 40.7332 - val_accuracy: 0.0000e+00\n",
      "\n",
      "Epoch 00070: loss improved from 2.34137 to 2.28818, saving model to nextword1.h5\n",
      "Epoch 71/150\n",
      "49/49 [==============================] - 4s 88ms/step - loss: 2.2047 - accuracy: 0.2964 - val_loss: 41.8595 - val_accuracy: 0.0000e+00\n",
      "\n",
      "Epoch 00071: loss improved from 2.28818 to 2.20466, saving model to nextword1.h5\n",
      "Epoch 72/150\n",
      "49/49 [==============================] - 4s 85ms/step - loss: 2.1923 - accuracy: 0.2951 - val_loss: 41.9366 - val_accuracy: 0.0013\n",
      "\n",
      "Epoch 00072: loss improved from 2.20466 to 2.19233, saving model to nextword1.h5\n"
     ]
    },
    {
     "name": "stdout",
     "output_type": "stream",
     "text": [
      "Epoch 73/150\n",
      "49/49 [==============================] - 4s 86ms/step - loss: 2.0866 - accuracy: 0.3256 - val_loss: 42.4616 - val_accuracy: 0.0013\n",
      "\n",
      "Epoch 00073: loss improved from 2.19233 to 2.08658, saving model to nextword1.h5\n",
      "Epoch 74/150\n",
      "49/49 [==============================] - 4s 85ms/step - loss: 2.0635 - accuracy: 0.3337 - val_loss: 42.6158 - val_accuracy: 0.0000e+00\n",
      "\n",
      "Epoch 00074: loss improved from 2.08658 to 2.06350, saving model to nextword1.h5\n",
      "Epoch 75/150\n",
      "49/49 [==============================] - 4s 84ms/step - loss: 2.0393 - accuracy: 0.3427 - val_loss: 42.5363 - val_accuracy: 0.0000e+00\n",
      "\n",
      "Epoch 00075: loss improved from 2.06350 to 2.03925, saving model to nextword1.h5\n",
      "Epoch 76/150\n",
      "49/49 [==============================] - 4s 84ms/step - loss: 1.9764 - accuracy: 0.3513 - val_loss: 43.2132 - val_accuracy: 0.0000e+00\n",
      "\n",
      "Epoch 00076: loss improved from 2.03925 to 1.97639, saving model to nextword1.h5\n",
      "Epoch 77/150\n",
      "49/49 [==============================] - 4s 82ms/step - loss: 1.9335 - accuracy: 0.3632 - val_loss: 43.6310 - val_accuracy: 0.0000e+00\n",
      "\n",
      "Epoch 00077: loss improved from 1.97639 to 1.93354, saving model to nextword1.h5\n",
      "Epoch 78/150\n",
      "49/49 [==============================] - 4s 83ms/step - loss: 1.8992 - accuracy: 0.3600 - val_loss: 43.3325 - val_accuracy: 0.0000e+00\n",
      "\n",
      "Epoch 00078: loss improved from 1.93354 to 1.89917, saving model to nextword1.h5\n",
      "Epoch 79/150\n",
      "49/49 [==============================] - 4s 82ms/step - loss: 1.8755 - accuracy: 0.3819 - val_loss: 43.6797 - val_accuracy: 0.0000e+00\n",
      "\n",
      "Epoch 00079: loss improved from 1.89917 to 1.87553, saving model to nextword1.h5\n",
      "Epoch 80/150\n",
      "49/49 [==============================] - 4s 86ms/step - loss: 1.8411 - accuracy: 0.3790 - val_loss: 43.7069 - val_accuracy: 0.0000e+00\n",
      "\n",
      "Epoch 00080: loss improved from 1.87553 to 1.84106, saving model to nextword1.h5\n",
      "Epoch 81/150\n",
      "49/49 [==============================] - 4s 84ms/step - loss: 1.8291 - accuracy: 0.3838 - val_loss: 43.6217 - val_accuracy: 0.0000e+00\n",
      "\n",
      "Epoch 00081: loss improved from 1.84106 to 1.82909, saving model to nextword1.h5\n",
      "Epoch 82/150\n",
      "49/49 [==============================] - 4s 84ms/step - loss: 1.7746 - accuracy: 0.4005 - val_loss: 43.4630 - val_accuracy: 0.0000e+00\n",
      "\n",
      "Epoch 00082: loss improved from 1.82909 to 1.77462, saving model to nextword1.h5\n",
      "Epoch 83/150\n",
      "49/49 [==============================] - 4s 85ms/step - loss: 1.7605 - accuracy: 0.3995 - val_loss: 44.0987 - val_accuracy: 0.0000e+00\n",
      "\n",
      "Epoch 00083: loss improved from 1.77462 to 1.76046, saving model to nextword1.h5\n",
      "Epoch 84/150\n",
      "49/49 [==============================] - 4s 83ms/step - loss: 1.7089 - accuracy: 0.4172 - val_loss: 44.4230 - val_accuracy: 0.0000e+00\n",
      "\n",
      "Epoch 00084: loss improved from 1.76046 to 1.70894, saving model to nextword1.h5\n",
      "Epoch 85/150\n",
      "49/49 [==============================] - 4s 81ms/step - loss: 1.6938 - accuracy: 0.4114 - val_loss: 44.3537 - val_accuracy: 0.0000e+00\n",
      "\n",
      "Epoch 00085: loss improved from 1.70894 to 1.69379, saving model to nextword1.h5\n",
      "Epoch 86/150\n",
      "49/49 [==============================] - 4s 83ms/step - loss: 1.6568 - accuracy: 0.4304 - val_loss: 45.3689 - val_accuracy: 0.0000e+00\n",
      "\n",
      "Epoch 00086: loss improved from 1.69379 to 1.65678, saving model to nextword1.h5\n",
      "Epoch 87/150\n",
      "49/49 [==============================] - 4s 81ms/step - loss: 1.6528 - accuracy: 0.4343 - val_loss: 44.8034 - val_accuracy: 0.0000e+00\n",
      "\n",
      "Epoch 00087: loss improved from 1.65678 to 1.65279, saving model to nextword1.h5\n",
      "Epoch 88/150\n",
      "49/49 [==============================] - 4s 81ms/step - loss: 1.6465 - accuracy: 0.4259 - val_loss: 45.7825 - val_accuracy: 0.0000e+00\n",
      "\n",
      "Epoch 00088: loss improved from 1.65279 to 1.64646, saving model to nextword1.h5\n",
      "Epoch 89/150\n",
      "49/49 [==============================] - 4s 78ms/step - loss: 1.6333 - accuracy: 0.4397 - val_loss: 44.9329 - val_accuracy: 0.0013\n",
      "\n",
      "Epoch 00089: loss improved from 1.64646 to 1.63333, saving model to nextword1.h5\n",
      "Epoch 90/150\n",
      "49/49 [==============================] - 4s 83ms/step - loss: 1.5944 - accuracy: 0.4359 - val_loss: 45.3850 - val_accuracy: 0.0013\n",
      "\n",
      "Epoch 00090: loss improved from 1.63333 to 1.59444, saving model to nextword1.h5\n",
      "Epoch 91/150\n",
      "49/49 [==============================] - 4s 82ms/step - loss: 1.5784 - accuracy: 0.4491 - val_loss: 45.5536 - val_accuracy: 0.0000e+00\n",
      "\n",
      "Epoch 00091: loss improved from 1.59444 to 1.57841, saving model to nextword1.h5\n",
      "Epoch 92/150\n",
      "49/49 [==============================] - 4s 81ms/step - loss: 1.5521 - accuracy: 0.4433 - val_loss: 46.0158 - val_accuracy: 0.0000e+00\n",
      "\n",
      "Epoch 00092: loss improved from 1.57841 to 1.55210, saving model to nextword1.h5\n",
      "Epoch 93/150\n",
      "49/49 [==============================] - 4s 82ms/step - loss: 1.5567 - accuracy: 0.4465 - val_loss: 45.8035 - val_accuracy: 0.0000e+00\n",
      "\n",
      "Epoch 00093: loss did not improve from 1.55210\n",
      "Epoch 94/150\n",
      "49/49 [==============================] - 4s 83ms/step - loss: 1.5526 - accuracy: 0.4548 - val_loss: 45.7391 - val_accuracy: 0.0000e+00\n",
      "\n",
      "Epoch 00094: loss did not improve from 1.55210\n",
      "Epoch 95/150\n",
      "49/49 [==============================] - 4s 86ms/step - loss: 1.5423 - accuracy: 0.4574 - val_loss: 45.5939 - val_accuracy: 0.0013\n",
      "\n",
      "Epoch 00095: loss improved from 1.55210 to 1.54228, saving model to nextword1.h5\n",
      "Epoch 96/150\n",
      "49/49 [==============================] - 4s 83ms/step - loss: 1.5313 - accuracy: 0.4536 - val_loss: 45.5955 - val_accuracy: 0.0000e+00\n",
      "\n",
      "Epoch 00096: loss improved from 1.54228 to 1.53134, saving model to nextword1.h5\n",
      "Epoch 97/150\n",
      "49/49 [==============================] - 4s 84ms/step - loss: 1.5110 - accuracy: 0.4642 - val_loss: 46.2357 - val_accuracy: 0.0000e+00\n",
      "\n",
      "Epoch 00097: loss improved from 1.53134 to 1.51101, saving model to nextword1.h5\n",
      "Epoch 98/150\n",
      "49/49 [==============================] - 4s 80ms/step - loss: 1.4627 - accuracy: 0.4696 - val_loss: 45.2057 - val_accuracy: 0.0013\n",
      "\n",
      "Epoch 00098: loss improved from 1.51101 to 1.46270, saving model to nextword1.h5\n",
      "Epoch 99/150\n",
      "49/49 [==============================] - 4s 90ms/step - loss: 1.4372 - accuracy: 0.4831 - val_loss: 45.7814 - val_accuracy: 0.0000e+00\n",
      "\n",
      "Epoch 00099: loss improved from 1.46270 to 1.43722, saving model to nextword1.h5\n",
      "Epoch 100/150\n",
      "49/49 [==============================] - 4s 84ms/step - loss: 1.4197 - accuracy: 0.4847 - val_loss: 46.5736 - val_accuracy: 0.0013\n",
      "\n",
      "Epoch 00100: loss improved from 1.43722 to 1.41967, saving model to nextword1.h5\n",
      "Epoch 101/150\n",
      "49/49 [==============================] - 4s 83ms/step - loss: 1.3990 - accuracy: 0.5002 - val_loss: 45.5791 - val_accuracy: 0.0000e+00\n",
      "\n",
      "Epoch 00101: loss improved from 1.41967 to 1.39897, saving model to nextword1.h5\n",
      "Epoch 102/150\n",
      "49/49 [==============================] - 4s 85ms/step - loss: 1.3672 - accuracy: 0.5079 - val_loss: 46.8562 - val_accuracy: 0.0000e+00\n",
      "\n",
      "Epoch 00102: loss improved from 1.39897 to 1.36716, saving model to nextword1.h5\n",
      "Epoch 103/150\n",
      "49/49 [==============================] - 4s 80ms/step - loss: 1.3582 - accuracy: 0.4998 - val_loss: 46.2299 - val_accuracy: 0.0013\n",
      "\n",
      "Epoch 00103: loss improved from 1.36716 to 1.35817, saving model to nextword1.h5\n",
      "Epoch 104/150\n",
      "49/49 [==============================] - 4s 82ms/step - loss: 1.3360 - accuracy: 0.5137 - val_loss: 47.0644 - val_accuracy: 0.0000e+00\n",
      "\n",
      "Epoch 00104: loss improved from 1.35817 to 1.33597, saving model to nextword1.h5\n",
      "Epoch 105/150\n",
      "49/49 [==============================] - 4s 84ms/step - loss: 1.3320 - accuracy: 0.5088 - val_loss: 46.6708 - val_accuracy: 0.0013\n",
      "\n",
      "Epoch 00105: loss improved from 1.33597 to 1.33201, saving model to nextword1.h5\n",
      "Epoch 106/150\n",
      "49/49 [==============================] - 4s 81ms/step - loss: 1.3527 - accuracy: 0.5056 - val_loss: 46.3412 - val_accuracy: 0.0000e+00\n",
      "\n",
      "Epoch 00106: loss did not improve from 1.33201\n",
      "Epoch 107/150\n",
      "49/49 [==============================] - 4s 84ms/step - loss: 1.3481 - accuracy: 0.4992 - val_loss: 46.5382 - val_accuracy: 0.0000e+00\n",
      "\n",
      "Epoch 00107: loss did not improve from 1.33201\n",
      "Epoch 108/150\n",
      "49/49 [==============================] - 4s 82ms/step - loss: 1.3337 - accuracy: 0.5069 - val_loss: 46.4558 - val_accuracy: 0.0000e+00\n",
      "\n",
      "Epoch 00108: loss did not improve from 1.33201\n",
      "\n",
      "Epoch 00108: ReduceLROnPlateau reducing learning rate to 0.00020000000949949026.\n",
      "Epoch 109/150\n"
     ]
    },
    {
     "name": "stdout",
     "output_type": "stream",
     "text": [
      "49/49 [==============================] - 4s 83ms/step - loss: 0.9770 - accuracy: 0.6117 - val_loss: 47.1948 - val_accuracy: 0.0000e+00\n",
      "\n",
      "Epoch 00109: loss improved from 1.33201 to 0.97695, saving model to nextword1.h5\n",
      "Epoch 110/150\n",
      "49/49 [==============================] - 4s 85ms/step - loss: 0.8499 - accuracy: 0.6332 - val_loss: 48.2252 - val_accuracy: 0.0000e+00\n",
      "\n",
      "Epoch 00110: loss improved from 0.97695 to 0.84985, saving model to nextword1.h5\n",
      "Epoch 111/150\n",
      "49/49 [==============================] - 4s 86ms/step - loss: 0.8014 - accuracy: 0.6390 - val_loss: 49.3083 - val_accuracy: 0.0013\n",
      "\n",
      "Epoch 00111: loss improved from 0.84985 to 0.80138, saving model to nextword1.h5\n",
      "Epoch 112/150\n",
      "49/49 [==============================] - 4s 80ms/step - loss: 0.7790 - accuracy: 0.6291 - val_loss: 50.1898 - val_accuracy: 0.0000e+00\n",
      "\n",
      "Epoch 00112: loss improved from 0.80138 to 0.77898, saving model to nextword1.h5\n",
      "Epoch 113/150\n",
      "49/49 [==============================] - 4s 81ms/step - loss: 0.7617 - accuracy: 0.6323 - val_loss: 51.0860 - val_accuracy: 0.0000e+00\n",
      "\n",
      "Epoch 00113: loss improved from 0.77898 to 0.76171, saving model to nextword1.h5\n",
      "Epoch 114/150\n",
      "49/49 [==============================] - 4s 80ms/step - loss: 0.7545 - accuracy: 0.6226 - val_loss: 51.9224 - val_accuracy: 0.0013\n",
      "\n",
      "Epoch 00114: loss improved from 0.76171 to 0.75447, saving model to nextword1.h5\n",
      "Epoch 115/150\n",
      "49/49 [==============================] - 4s 82ms/step - loss: 0.7437 - accuracy: 0.6303 - val_loss: 52.7445 - val_accuracy: 0.0000e+00\n",
      "\n",
      "Epoch 00115: loss improved from 0.75447 to 0.74374, saving model to nextword1.h5\n",
      "Epoch 116/150\n",
      "49/49 [==============================] - 4s 82ms/step - loss: 0.7364 - accuracy: 0.6226 - val_loss: 53.4688 - val_accuracy: 0.0000e+00\n",
      "\n",
      "Epoch 00116: loss improved from 0.74374 to 0.73641, saving model to nextword1.h5\n",
      "Epoch 117/150\n",
      "49/49 [==============================] - 4s 85ms/step - loss: 0.7326 - accuracy: 0.6168 - val_loss: 54.1516 - val_accuracy: 0.0000e+00\n",
      "\n",
      "Epoch 00117: loss improved from 0.73641 to 0.73257, saving model to nextword1.h5\n",
      "Epoch 118/150\n",
      "49/49 [==============================] - 4s 78ms/step - loss: 0.7283 - accuracy: 0.6152 - val_loss: 54.9163 - val_accuracy: 0.0000e+00\n",
      "\n",
      "Epoch 00118: loss improved from 0.73257 to 0.72831, saving model to nextword1.h5\n",
      "Epoch 119/150\n",
      "49/49 [==============================] - 4s 77ms/step - loss: 0.7234 - accuracy: 0.6149 - val_loss: 55.7809 - val_accuracy: 0.0000e+00\n",
      "\n",
      "Epoch 00119: loss improved from 0.72831 to 0.72344, saving model to nextword1.h5\n",
      "Epoch 120/150\n",
      "49/49 [==============================] - 4s 77ms/step - loss: 0.7190 - accuracy: 0.6136 - val_loss: 56.0081 - val_accuracy: 0.0000e+00\n",
      "\n",
      "Epoch 00120: loss improved from 0.72344 to 0.71900, saving model to nextword1.h5\n",
      "Epoch 121/150\n",
      "49/49 [==============================] - 4s 77ms/step - loss: 0.7177 - accuracy: 0.6136 - val_loss: 56.9022 - val_accuracy: 0.0000e+00\n",
      "\n",
      "Epoch 00121: loss improved from 0.71900 to 0.71768, saving model to nextword1.h5\n",
      "Epoch 122/150\n",
      "49/49 [==============================] - 4s 77ms/step - loss: 0.7145 - accuracy: 0.6156 - val_loss: 57.3948 - val_accuracy: 0.0000e+00\n",
      "\n",
      "Epoch 00122: loss improved from 0.71768 to 0.71449, saving model to nextword1.h5\n",
      "Epoch 123/150\n",
      "49/49 [==============================] - 4s 80ms/step - loss: 0.7114 - accuracy: 0.6091 - val_loss: 57.9942 - val_accuracy: 0.0000e+00\n",
      "\n",
      "Epoch 00123: loss improved from 0.71449 to 0.71142, saving model to nextword1.h5\n",
      "Epoch 124/150\n",
      "49/49 [==============================] - 4s 81ms/step - loss: 0.7092 - accuracy: 0.6159 - val_loss: 58.5423 - val_accuracy: 0.0013\n",
      "\n",
      "Epoch 00124: loss improved from 0.71142 to 0.70923, saving model to nextword1.h5\n",
      "Epoch 125/150\n",
      "49/49 [==============================] - 4s 77ms/step - loss: 0.7064 - accuracy: 0.6210 - val_loss: 59.0566 - val_accuracy: 0.0000e+00\n",
      "\n",
      "Epoch 00125: loss improved from 0.70923 to 0.70642, saving model to nextword1.h5\n",
      "Epoch 126/150\n",
      "49/49 [==============================] - 4s 78ms/step - loss: 0.7045 - accuracy: 0.6156 - val_loss: 59.8697 - val_accuracy: 0.0000e+00\n",
      "\n",
      "Epoch 00126: loss improved from 0.70642 to 0.70451, saving model to nextword1.h5\n",
      "Epoch 127/150\n",
      "49/49 [==============================] - 4s 79ms/step - loss: 0.7030 - accuracy: 0.6075 - val_loss: 60.0503 - val_accuracy: 0.0000e+00\n",
      "\n",
      "Epoch 00127: loss improved from 0.70451 to 0.70299, saving model to nextword1.h5\n",
      "Epoch 128/150\n",
      "49/49 [==============================] - 4s 84ms/step - loss: 0.7001 - accuracy: 0.6159 - val_loss: 60.7221 - val_accuracy: 0.0000e+00\n",
      "\n",
      "Epoch 00128: loss improved from 0.70299 to 0.70006, saving model to nextword1.h5\n",
      "Epoch 129/150\n",
      "49/49 [==============================] - 4s 84ms/step - loss: 0.7005 - accuracy: 0.6066 - val_loss: 61.0668 - val_accuracy: 0.0000e+00\n",
      "\n",
      "Epoch 00129: loss did not improve from 0.70006\n",
      "Epoch 130/150\n",
      "49/49 [==============================] - 4s 86ms/step - loss: 0.7011 - accuracy: 0.6078 - val_loss: 61.4924 - val_accuracy: 0.0013\n",
      "\n",
      "Epoch 00130: loss did not improve from 0.70006\n",
      "Epoch 131/150\n",
      "49/49 [==============================] - 4s 84ms/step - loss: 0.6949 - accuracy: 0.6059 - val_loss: 62.0065 - val_accuracy: 0.0013\n",
      "\n",
      "Epoch 00131: loss improved from 0.70006 to 0.69493, saving model to nextword1.h5\n",
      "Epoch 132/150\n",
      "49/49 [==============================] - 4s 86ms/step - loss: 0.6961 - accuracy: 0.6201 - val_loss: 62.1755 - val_accuracy: 0.0000e+00\n",
      "\n",
      "Epoch 00132: loss did not improve from 0.69493\n",
      "Epoch 133/150\n",
      "49/49 [==============================] - 4s 83ms/step - loss: 0.6929 - accuracy: 0.6017 - val_loss: 62.8691 - val_accuracy: 0.0000e+00\n",
      "\n",
      "Epoch 00133: loss improved from 0.69493 to 0.69293, saving model to nextword1.h5\n",
      "Epoch 134/150\n",
      "49/49 [==============================] - 4s 82ms/step - loss: 0.6954 - accuracy: 0.6091 - val_loss: 63.2904 - val_accuracy: 0.0000e+00\n",
      "\n",
      "Epoch 00134: loss did not improve from 0.69293\n",
      "Epoch 135/150\n",
      "49/49 [==============================] - 4s 85ms/step - loss: 0.6935 - accuracy: 0.6133 - val_loss: 63.5712 - val_accuracy: 0.0000e+00\n",
      "\n",
      "Epoch 00135: loss did not improve from 0.69293\n",
      "Epoch 136/150\n",
      "49/49 [==============================] - 4s 84ms/step - loss: 0.6925 - accuracy: 0.6130 - val_loss: 63.6907 - val_accuracy: 0.0000e+00\n",
      "\n",
      "Epoch 00136: loss improved from 0.69293 to 0.69249, saving model to nextword1.h5\n",
      "Epoch 137/150\n",
      "49/49 [==============================] - 4s 83ms/step - loss: 0.6921 - accuracy: 0.6162 - val_loss: 64.2861 - val_accuracy: 0.0000e+00\n",
      "\n",
      "Epoch 00137: loss improved from 0.69249 to 0.69210, saving model to nextword1.h5\n",
      "Epoch 138/150\n",
      "49/49 [==============================] - 4s 82ms/step - loss: 0.6878 - accuracy: 0.6136 - val_loss: 64.5702 - val_accuracy: 0.0000e+00\n",
      "\n",
      "Epoch 00138: loss improved from 0.69210 to 0.68783, saving model to nextword1.h5\n",
      "Epoch 139/150\n",
      "49/49 [==============================] - 4s 82ms/step - loss: 0.6873 - accuracy: 0.6101 - val_loss: 64.9840 - val_accuracy: 0.0000e+00\n",
      "\n",
      "Epoch 00139: loss improved from 0.68783 to 0.68729, saving model to nextword1.h5\n",
      "Epoch 140/150\n",
      "49/49 [==============================] - 4s 85ms/step - loss: 0.6871 - accuracy: 0.6168 - val_loss: 65.5138 - val_accuracy: 0.0013\n",
      "\n",
      "Epoch 00140: loss improved from 0.68729 to 0.68714, saving model to nextword1.h5\n",
      "Epoch 141/150\n",
      "49/49 [==============================] - 4s 84ms/step - loss: 0.6854 - accuracy: 0.6111 - val_loss: 65.5839 - val_accuracy: 0.0013\n",
      "\n",
      "Epoch 00141: loss improved from 0.68714 to 0.68539, saving model to nextword1.h5\n",
      "Epoch 142/150\n",
      "49/49 [==============================] - 4s 88ms/step - loss: 0.6842 - accuracy: 0.6082 - val_loss: 65.8679 - val_accuracy: 0.0013\n",
      "\n",
      "Epoch 00142: loss improved from 0.68539 to 0.68419, saving model to nextword1.h5\n",
      "Epoch 143/150\n",
      "49/49 [==============================] - 4s 85ms/step - loss: 0.6807 - accuracy: 0.6095 - val_loss: 66.1025 - val_accuracy: 0.0000e+00\n",
      "\n",
      "Epoch 00143: loss improved from 0.68419 to 0.68070, saving model to nextword1.h5\n",
      "Epoch 144/150\n",
      "49/49 [==============================] - 4s 79ms/step - loss: 0.6817 - accuracy: 0.6104 - val_loss: 66.1226 - val_accuracy: 0.0000e+00\n",
      "\n",
      "Epoch 00144: loss did not improve from 0.68070\n",
      "Epoch 145/150\n",
      "49/49 [==============================] - 4s 80ms/step - loss: 0.6809 - accuracy: 0.6123 - val_loss: 66.8899 - val_accuracy: 0.0000e+00\n"
     ]
    },
    {
     "name": "stdout",
     "output_type": "stream",
     "text": [
      "\n",
      "Epoch 00145: loss did not improve from 0.68070\n",
      "Epoch 146/150\n",
      "49/49 [==============================] - 4s 84ms/step - loss: 0.6808 - accuracy: 0.6123 - val_loss: 66.7360 - val_accuracy: 0.0000e+00\n",
      "\n",
      "Epoch 00146: loss did not improve from 0.68070\n",
      "\n",
      "Epoch 00146: ReduceLROnPlateau reducing learning rate to 0.0001.\n",
      "Epoch 147/150\n",
      "49/49 [==============================] - 4s 86ms/step - loss: 0.6265 - accuracy: 0.6213 - val_loss: 67.0454 - val_accuracy: 0.0000e+00\n",
      "\n",
      "Epoch 00147: loss improved from 0.68070 to 0.62650, saving model to nextword1.h5\n",
      "Epoch 148/150\n",
      "49/49 [==============================] - 4s 78ms/step - loss: 0.6226 - accuracy: 0.6130 - val_loss: 67.4460 - val_accuracy: 0.0000e+00\n",
      "\n",
      "Epoch 00148: loss improved from 0.62650 to 0.62258, saving model to nextword1.h5\n",
      "Epoch 149/150\n",
      "49/49 [==============================] - 4s 82ms/step - loss: 0.6205 - accuracy: 0.6201 - val_loss: 67.5745 - val_accuracy: 0.0000e+00\n",
      "\n",
      "Epoch 00149: loss improved from 0.62258 to 0.62053, saving model to nextword1.h5\n",
      "Epoch 150/150\n",
      "49/49 [==============================] - 4s 83ms/step - loss: 0.6184 - accuracy: 0.6191 - val_loss: 68.0501 - val_accuracy: 0.0000e+00\n",
      "\n",
      "Epoch 00150: loss improved from 0.62053 to 0.61838, saving model to nextword1.h5\n"
     ]
    },
    {
     "data": {
      "text/plain": [
       "<keras.callbacks.History at 0x7f7c39486b10>"
      ]
     },
     "execution_count": 18,
     "metadata": {},
     "output_type": "execute_result"
    }
   ],
   "source": [
    "model.fit(X, y, epochs=150, batch_size=64, validation_split=0.2,\n",
    "          callbacks=[checkpoint, reduce, tensorboard_Visualization])"
   ]
  },
  {
   "cell_type": "markdown",
   "metadata": {},
   "source": [
    "## Evaluate the model\n",
    "\n",
    "with tensorboard visualization"
   ]
  },
  {
   "cell_type": "code",
   "execution_count": 22,
   "metadata": {
    "scrolled": true
   },
   "outputs": [
    {
     "data": {
      "text/plain": [
       "Reusing TensorBoard on port 6006 (pid 11524), started 1:10:53 ago. (Use '!kill 11524' to kill it.)"
      ]
     },
     "metadata": {},
     "output_type": "display_data"
    },
    {
     "data": {
      "text/html": [
       "\n",
       "      <iframe id=\"tensorboard-frame-c555210f8783c5d2\" width=\"100%\" height=\"800\" frameborder=\"0\">\n",
       "      </iframe>\n",
       "      <script>\n",
       "        (function() {\n",
       "          const frame = document.getElementById(\"tensorboard-frame-c555210f8783c5d2\");\n",
       "          const url = new URL(\"/\", window.location);\n",
       "          const port = 6006;\n",
       "          if (port) {\n",
       "            url.port = port;\n",
       "          }\n",
       "          frame.src = url;\n",
       "        })();\n",
       "      </script>\n",
       "    "
      ],
      "text/plain": [
       "<IPython.core.display.HTML object>"
      ]
     },
     "metadata": {},
     "output_type": "display_data"
    }
   ],
   "source": [
    "# tensorboard --logdir=\"./logsnextword1\"\n",
    "# http://localhost:6007/\n",
    "\n",
    "%reload_ext tensorboard\n",
    "%tensorboard --logdir=\"./logsnextword1\""
   ]
  },
  {
   "cell_type": "markdown",
   "metadata": {},
   "source": [
    "## Predict with the model"
   ]
  },
  {
   "cell_type": "code",
   "execution_count": 20,
   "metadata": {},
   "outputs": [],
   "source": [
    "# Load the model and tokenizer\n",
    "model = load_model('nextword1.h5')\n",
    "tokenizer = pickle.load(open('tokenizer1.pkl', 'rb'))\n",
    "\n",
    "def Predict_Next_Words(model, tokenizer, text):\n",
    "    for i in range(3):\n",
    "        sequence = tokenizer.texts_to_sequences([text])[0]\n",
    "        sequence = np.array(sequence)\n",
    "        \n",
    "        preds_ = model.predict(sequence)\n",
    "        preds =np.argmax(preds_,axis=1)\n",
    "        \n",
    "        predicted_word = \"\"\n",
    "        \n",
    "        for key, value in tokenizer.word_index.items():\n",
    "            if value == preds:\n",
    "                predicted_word = key\n",
    "                break\n",
    "        \n",
    "        return predicted_word"
   ]
  },
  {
   "cell_type": "code",
   "execution_count": 21,
   "metadata": {},
   "outputs": [
    {
     "name": "stdout",
     "output_type": "stream",
     "text": [
      "Enter your line: at the dull\n"
     ]
    },
    {
     "data": {
      "text/plain": [
       "'weather'"
      ]
     },
     "execution_count": 21,
     "metadata": {},
     "output_type": "execute_result"
    }
   ],
   "source": [
    "# \"at the dull\" \"collection of textile\" \"what a strenuous\"\n",
    "\n",
    "text = input(\"Enter your line: \")\n",
    "text = text.split(\" \")\n",
    "text = text[-1]\n",
    "text = ''.join(text)\n",
    "Predict_Next_Words(model, tokenizer, text)"
   ]
  },
  {
   "cell_type": "code",
   "execution_count": null,
   "metadata": {},
   "outputs": [],
   "source": []
  }
 ],
 "metadata": {
  "kernelspec": {
   "display_name": "Python 3",
   "language": "python",
   "name": "python3"
  },
  "language_info": {
   "codemirror_mode": {
    "name": "ipython",
    "version": 3
   },
   "file_extension": ".py",
   "mimetype": "text/x-python",
   "name": "python",
   "nbconvert_exporter": "python",
   "pygments_lexer": "ipython3",
   "version": "3.7.4"
  },
  "toc": {
   "base_numbering": 1,
   "nav_menu": {},
   "number_sections": true,
   "sideBar": true,
   "skip_h1_title": false,
   "title_cell": "Table of Contents",
   "title_sidebar": "Contents",
   "toc_cell": false,
   "toc_position": {
    "height": "calc(100% - 180px)",
    "left": "10px",
    "top": "150px",
    "width": "165px"
   },
   "toc_section_display": true,
   "toc_window_display": true
  }
 },
 "nbformat": 4,
 "nbformat_minor": 2
}
