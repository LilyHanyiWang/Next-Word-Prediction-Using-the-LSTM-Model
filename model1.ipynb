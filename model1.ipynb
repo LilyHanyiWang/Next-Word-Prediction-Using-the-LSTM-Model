{
 "cells": [
  {
   "cell_type": "markdown",
   "metadata": {},
   "source": [
    "# LSTM Model for Next Word Prediction\n",
    "\n",
    "Reference: <br>\n",
    "https://thecleverprogrammer.com/2020/07/20/next-word-prediction-model/ <br>\n",
    "https://shiva-verma.medium.com/understanding-input-and-output-shape-in-lstm-keras-c501ee95c65e"
   ]
  },
  {
   "cell_type": "code",
   "execution_count": 1,
   "metadata": {},
   "outputs": [],
   "source": [
    "import numpy as np\n",
    "from nltk.tokenize import RegexpTokenizer\n",
    "from keras.models import Sequential, load_model\n",
    "from keras.layers import LSTM\n",
    "from keras.layers import Embedding\n",
    "\n",
    "from keras.layers.core import Dense, Activation\n",
    "from tensorflow.keras.optimizers import RMSprop\n",
    "import matplotlib.pyplot as plt\n",
    "import pickle\n",
    "import heapq\n",
    "\n",
    "from nltk.tokenize import sent_tokenize\n"
   ]
  },
  {
   "cell_type": "markdown",
   "metadata": {},
   "source": [
    "## import and preprocess the training text file\n",
    "\n",
    "### read in the .txt file and divide into seperate words"
   ]
  },
  {
   "cell_type": "code",
   "execution_count": 2,
   "metadata": {},
   "outputs": [
    {
     "name": "stdout",
     "output_type": "stream",
     "text": [
      "length of the corpus is: 980\n"
     ]
    }
   ],
   "source": [
    "# read the txt dataset\n",
    "path = 'belling_the_cat.txt'\n",
    "#path = 'sherlock.txt'\n",
    "#path = 'metamorphosis_clean.txt'\n",
    "text = open(path).read().lower()\n",
    "print('length of the corpus is:', len(text))"
   ]
  },
  {
   "cell_type": "code",
   "execution_count": 3,
   "metadata": {},
   "outputs": [],
   "source": [
    "# split the .txt into seprate words\n",
    "tokenizer = RegexpTokenizer(r'\\w+')\n",
    "words = tokenizer.tokenize(text)\n",
    "#words"
   ]
  },
  {
   "cell_type": "markdown",
   "metadata": {},
   "source": [
    "### feature engineering\n",
    "Assign a unique integer to each word or symbol because LSTM can only understand real numbers."
   ]
  },
  {
   "cell_type": "code",
   "execution_count": 4,
   "metadata": {},
   "outputs": [],
   "source": [
    "unique_words = np.unique(words) # 所有出现过的words（unique删除了出现多次的）\n",
    "unique_word_index = dict((c, i) for i, c in enumerate(unique_words)) # 把单词对应上数字"
   ]
  },
  {
   "cell_type": "code",
   "execution_count": 5,
   "metadata": {},
   "outputs": [],
   "source": [
    "WORD_LENGTH = 3 #用前面3个单词预测下一个单词\n",
    "prev_words = []\n",
    "next_words = []\n",
    "for i in range(len(words) - WORD_LENGTH):\n",
    "    prev_words.append(words[i:i + WORD_LENGTH])\n",
    "    next_words.append(words[i + WORD_LENGTH])\n",
    "#print(prev_words[1])\n",
    "#print(next_words[1])\n"
   ]
  },
  {
   "cell_type": "code",
   "execution_count": 6,
   "metadata": {},
   "outputs": [
    {
     "name": "stdout",
     "output_type": "stream",
     "text": [
      "number of unique words are: 109\n"
     ]
    }
   ],
   "source": [
    "print('number of unique words are:', len(unique_words))"
   ]
  },
  {
   "cell_type": "markdown",
   "metadata": {},
   "source": [
    "Now we create our training data and target data by splitting the sequences into the inputs and output labels. \n",
    "\n",
    "Here we use the last 5 words to predict the next word. Thus the list of the first 5 words are inputs, and the list of the following word are labels.\n",
    "\n",
    "Create two numpy arrays:\n",
    "\n",
    "X for storing the features：X的第i行，第j列，对应到（第i个prev_word list的5个单词当中的第j个，的这个单词对应的index）是1，其余是0\n",
    "\n",
    "Y for storing its corresponding label：Y的第i行，对应到（next_word list的第i个单词对应的index）是1，其余是0\n",
    "\n",
    "即X是training data，包含所有前5个word的list；Y是对应的正确答案，包含所有对应的下一个单词\n",
    "\n",
    "Iterate X and Y if the word is available so that the corresponding position becomes 1.\n",
    "\n"
   ]
  },
  {
   "cell_type": "code",
   "execution_count": 7,
   "metadata": {},
   "outputs": [
    {
     "name": "stdout",
     "output_type": "stream",
     "text": [
      "[False False False False False False False False False False False False\n",
      " False False False False False False False False False False False False\n",
      " False False False False False False False False False False False False\n",
      " False False False False False False False False False  True False False\n",
      " False False False False False False False False False False False False\n",
      " False False False False False False False False False False False False\n",
      " False False False False False False False False False False False False\n",
      " False False False False False False False False False False False False\n",
      " False False False False False False False False False False False False\n",
      " False]\n"
     ]
    }
   ],
   "source": [
    "X = np.zeros((len(prev_words), WORD_LENGTH, len(unique_words)), dtype=bool) #one hot vector\n",
    "Y = np.zeros((len(next_words), len(unique_words)), dtype=bool)\n",
    "for i, each_words in enumerate(prev_words):\n",
    "    for j, each_word in enumerate(each_words):\n",
    "        X[i, j, unique_word_index[each_word]] = 1\n",
    "    Y[i, unique_word_index[next_words[i]]] = 1\n",
    "\n",
    "X.shape\n",
    "Y.shape\n",
    "print(X[0][0])"
   ]
  },
  {
   "cell_type": "markdown",
   "metadata": {},
   "source": [
    "## model 1"
   ]
  },
  {
   "cell_type": "markdown",
   "metadata": {},
   "source": [
    "```\n",
    "model.add(LSTM(128, input_shape=(WORD_LENGTH, len(unique_words))))\n",
    "```\n",
    "\n",
    "***INPUT***\n",
    "\n",
    "You always have to give a three-dimensional array as an input to your LSTM network. \n",
    "\n",
    "The first dimension represents the **batch size**, the second dimension represents the **time-steps** and the third dimension represents the **number of units in one input sequence**. For example, the input shape looks like (*batch_size, time_steps, units*). \n",
    "\n",
    "***OUTPUT***\n",
    "\n",
    "Argument **units** represent the number of output units in the LSTM which is 3 here. So output shape is (None, 3) as displayed in ```model.summary()```. The first dimension of output is None because we do not know the batch size in advance. So the actual output shape will be (batch_size, 3) here.\n",
    "\n",
    "\n"
   ]
  },
  {
   "cell_type": "code",
   "execution_count": null,
   "metadata": {},
   "outputs": [],
   "source": []
  },
  {
   "cell_type": "code",
   "execution_count": 8,
   "metadata": {},
   "outputs": [],
   "source": [
    "model = Sequential()\n",
    "model.add(LSTM(128, input_shape=(WORD_LENGTH, len(unique_words)))) #\n",
    "model.add(Dense(len(unique_words)))#全链接层？\n",
    "model.add(Activation('softmax'))#线性=>非线性"
   ]
  },
  {
   "cell_type": "code",
   "execution_count": 9,
   "metadata": {},
   "outputs": [
    {
     "name": "stdout",
     "output_type": "stream",
     "text": [
      "Model: \"sequential\"\n",
      "_________________________________________________________________\n",
      "Layer (type)                 Output Shape              Param #   \n",
      "=================================================================\n",
      "lstm (LSTM)                  (None, 128)               121856    \n",
      "_________________________________________________________________\n",
      "dense (Dense)                (None, 109)               14061     \n",
      "_________________________________________________________________\n",
      "activation (Activation)      (None, 109)               0         \n",
      "=================================================================\n",
      "Total params: 135,917\n",
      "Trainable params: 135,917\n",
      "Non-trainable params: 0\n",
      "_________________________________________________________________\n"
     ]
    }
   ],
   "source": [
    "model.summary()"
   ]
  },
  {
   "cell_type": "markdown",
   "metadata": {},
   "source": [
    "## train the model\n",
    "\n",
    "`epoches`\n",
    "indicates the number of passes of the entire training dataset the machine learning algorithm has completed. Datasets are usually grouped into batches (especially when the amount of data is very large). \n",
    "\n",
    "`shuffle`\n",
    "\n",
    "\n",
    "\n"
   ]
  },
  {
   "cell_type": "code",
   "execution_count": 10,
   "metadata": {
    "scrolled": true
   },
   "outputs": [
    {
     "name": "stderr",
     "output_type": "stream",
     "text": [
      "/Users/hanyiwang/opt/anaconda3/lib/python3.7/site-packages/keras/optimizer_v2/optimizer_v2.py:356: UserWarning: The `lr` argument is deprecated, use `learning_rate` instead.\n",
      "  \"The `lr` argument is deprecated, use `learning_rate` instead.\")\n"
     ]
    },
    {
     "name": "stdout",
     "output_type": "stream",
     "text": [
      "Epoch 1/20\n",
      "2/2 [==============================] - 3s 488ms/step - loss: 4.8094 - accuracy: 0.0141 - val_loss: 17.8707 - val_accuracy: 0.0278\n",
      "Epoch 2/20\n",
      "2/2 [==============================] - 0s 22ms/step - loss: 18.5729 - accuracy: 0.0141 - val_loss: 11.1443 - val_accuracy: 0.0278\n",
      "Epoch 3/20\n",
      "2/2 [==============================] - 0s 22ms/step - loss: 9.9165 - accuracy: 0.0352 - val_loss: 13.3592 - val_accuracy: 0.0000e+00\n",
      "Epoch 4/20\n",
      "2/2 [==============================] - 0s 22ms/step - loss: 11.7950 - accuracy: 0.0141 - val_loss: 6.7127 - val_accuracy: 0.0278\n",
      "Epoch 5/20\n",
      "2/2 [==============================] - 0s 22ms/step - loss: 4.9064 - accuracy: 0.0423 - val_loss: 6.0168 - val_accuracy: 0.0278\n",
      "Epoch 6/20\n",
      "2/2 [==============================] - 0s 25ms/step - loss: 3.6212 - accuracy: 0.1479 - val_loss: 6.3972 - val_accuracy: 0.0278\n",
      "Epoch 7/20\n",
      "2/2 [==============================] - 0s 22ms/step - loss: 2.7041 - accuracy: 0.3310 - val_loss: 6.9732 - val_accuracy: 0.0278\n",
      "Epoch 8/20\n",
      "2/2 [==============================] - 0s 22ms/step - loss: 2.2620 - accuracy: 0.4014 - val_loss: 6.5306 - val_accuracy: 0.0556\n",
      "Epoch 9/20\n",
      "2/2 [==============================] - 0s 22ms/step - loss: 1.3477 - accuracy: 0.6408 - val_loss: 7.7034 - val_accuracy: 0.0833\n",
      "Epoch 10/20\n",
      "2/2 [==============================] - 0s 25ms/step - loss: 1.2217 - accuracy: 0.7183 - val_loss: 7.1183 - val_accuracy: 0.1111\n",
      "Epoch 11/20\n",
      "2/2 [==============================] - 0s 27ms/step - loss: 0.5320 - accuracy: 0.9014 - val_loss: 7.5451 - val_accuracy: 0.0833\n",
      "Epoch 12/20\n",
      "2/2 [==============================] - 0s 28ms/step - loss: 0.4852 - accuracy: 0.8803 - val_loss: 8.0221 - val_accuracy: 0.0833\n",
      "Epoch 13/20\n",
      "2/2 [==============================] - 0s 26ms/step - loss: 0.3421 - accuracy: 0.9155 - val_loss: 7.3348 - val_accuracy: 0.0833\n",
      "Epoch 14/20\n",
      "2/2 [==============================] - 0s 24ms/step - loss: 0.3468 - accuracy: 0.9437 - val_loss: 7.2545 - val_accuracy: 0.0833\n",
      "Epoch 15/20\n",
      "2/2 [==============================] - 0s 25ms/step - loss: 0.1617 - accuracy: 0.9648 - val_loss: 7.4341 - val_accuracy: 0.1111\n",
      "Epoch 16/20\n",
      "2/2 [==============================] - 0s 26ms/step - loss: 0.1609 - accuracy: 0.9789 - val_loss: 7.6239 - val_accuracy: 0.0556\n",
      "Epoch 17/20\n",
      "2/2 [==============================] - 0s 21ms/step - loss: 0.2151 - accuracy: 0.9648 - val_loss: 7.5562 - val_accuracy: 0.0556\n",
      "Epoch 18/20\n",
      "2/2 [==============================] - 0s 22ms/step - loss: 0.0598 - accuracy: 0.9789 - val_loss: 7.7013 - val_accuracy: 0.0556\n",
      "Epoch 19/20\n",
      "2/2 [==============================] - 0s 22ms/step - loss: 0.0222 - accuracy: 1.0000 - val_loss: 7.7106 - val_accuracy: 0.0556\n",
      "Epoch 20/20\n",
      "2/2 [==============================] - 0s 22ms/step - loss: 0.0100 - accuracy: 1.0000 - val_loss: 7.7712 - val_accuracy: 0.0556\n"
     ]
    }
   ],
   "source": [
    "optimizer = RMSprop(lr=0.1)\n",
    "model.compile(loss='categorical_crossentropy', optimizer=optimizer, metrics=['accuracy'])\n",
    "history = model.fit(X, Y, validation_split=0.2, batch_size=128, epochs=20).history"
   ]
  },
  {
   "cell_type": "markdown",
   "metadata": {},
   "source": [
    "Store the model for future use"
   ]
  },
  {
   "cell_type": "code",
   "execution_count": 11,
   "metadata": {},
   "outputs": [],
   "source": [
    "model.save('m1_metamorphosis.h5')\n",
    "pickle.dump(history, open(\"history.p\", \"wb\"))\n",
    "\n",
    "#model = load_model('keras_next_word_model.h5')\n",
    "#history = pickle.load(open(\"history.p\", \"rb\"))"
   ]
  },
  {
   "cell_type": "markdown",
   "metadata": {},
   "source": [
    "## evaluate the model"
   ]
  },
  {
   "cell_type": "code",
   "execution_count": 12,
   "metadata": {},
   "outputs": [
    {
     "data": {
      "text/plain": [
       "<matplotlib.legend.Legend at 0x7ff9fa005190>"
      ]
     },
     "execution_count": 12,
     "metadata": {},
     "output_type": "execute_result"
    },
    {
     "data": {
      "image/png": "[encoded data removed]",
      "text/plain": [
       "<Figure size 432x288 with 1 Axes>"
      ]
     },
     "metadata": {
      "needs_background": "light"
     },
     "output_type": "display_data"
    }
   ],
   "source": [
    "plt.plot(history['accuracy'])\n",
    "plt.plot(history['val_accuracy'])\n",
    "plt.title('model accuracy')\n",
    "plt.ylabel('accuracy')\n",
    "plt.xlabel('epoch')\n",
    "plt.legend(['train', 'test'], loc='upper left')"
   ]
  },
  {
   "cell_type": "code",
   "execution_count": 13,
   "metadata": {},
   "outputs": [
    {
     "data": {
      "text/plain": [
       "<matplotlib.legend.Legend at 0x7ff9fa82a4d0>"
      ]
     },
     "execution_count": 13,
     "metadata": {},
     "output_type": "execute_result"
    },
    {
     "data": {
      "image/png": "[encoded data removed]",
      "text/plain": [
       "<Figure size 432x288 with 1 Axes>"
      ]
     },
     "metadata": {
      "needs_background": "light"
     },
     "output_type": "display_data"
    }
   ],
   "source": [
    "plt.plot(history['loss'])\n",
    "plt.plot(history['val_loss'])\n",
    "plt.title('model loss')\n",
    "plt.ylabel('loss')\n",
    "plt.xlabel('epoch')\n",
    "plt.legend(['train', 'test'], loc='upper left')"
   ]
  },
  {
   "cell_type": "markdown",
   "metadata": {},
   "source": [
    "## test the model\n"
   ]
  },
  {
   "cell_type": "markdown",
   "metadata": {},
   "source": [
    "对要test的文本按之前做feature engineering一样的方式进行处理，让它可以fit进model"
   ]
  },
  {
   "cell_type": "code",
   "execution_count": 14,
   "metadata": {},
   "outputs": [],
   "source": [
    "def prepare_input(text):\n",
    "    x = np.zeros((1, WORD_LENGTH, len(unique_words)))\n",
    "    for t, word in enumerate(text.split()):\n",
    "        x[0, t, unique_word_index[word]] = 1\n",
    "    return x\n",
    "\n",
    "#prepare_input(\"It is not a lack\".lower())"
   ]
  },
  {
   "cell_type": "code",
   "execution_count": 15,
   "metadata": {},
   "outputs": [],
   "source": [
    "# function to return samples\n",
    "\n",
    "def sample(preds, top_n=3):\n",
    "    preds = np.asarray(preds).astype('float64')\n",
    "    preds = np.log(preds)\n",
    "    exp_preds = np.exp(preds)\n",
    "    preds = exp_preds / np.sum(exp_preds)\n",
    "\n",
    "    return heapq.nlargest(top_n, range(len(preds)), preds.take)"
   ]
  },
  {
   "cell_type": "code",
   "execution_count": 16,
   "metadata": {},
   "outputs": [],
   "source": [
    "# final function for prediction\n",
    "def predict_completions(text, n=3):\n",
    "    x = prepare_input(text)\n",
    "    preds = model.predict(x, verbose=0)[0]\n",
    "    next_indices = sample(preds, n)\n",
    "    return [char_indices[idx] + predict_completion(text[1:] + char_indices[idx]) for idx in next_indices]"
   ]
  },
  {
   "cell_type": "markdown",
   "metadata": {},
   "source": [
    "## trial"
   ]
  },
  {
   "cell_type": "code",
   "execution_count": 17,
   "metadata": {},
   "outputs": [],
   "source": [
    "quotes = [\n",
    "    \"It is not a lack of love, but a lack of friendship that makes unhappy marriages.\",\n",
    "    \"That which does not kill us makes us stronger.\",\n",
    "    \"I'm not upset that you lied to me, I'm upset that from now on I can't believe you.\",\n",
    "    \"And those who were seen dancing were thought to be insane by those who could not hear the music.\",\n",
    "    \"It is hard enough to remember my opinions, without also remembering my reasons for them!\"\n",
    "]\n",
    "\n",
    "quotes = ['how many people']"
   ]
  },
  {
   "cell_type": "code",
   "execution_count": 18,
   "metadata": {},
   "outputs": [],
   "source": [
    "# for q in quotes:\n",
    "#     seq = q[:40].lower()\n",
    "#     print(seq)\n",
    "#     print(predict_completions(seq, 5))\n",
    "#     print()"
   ]
  }
 ],
 "metadata": {
  "kernelspec": {
   "display_name": "Python 3",
   "language": "python",
   "name": "python3"
  },
  "language_info": {
   "codemirror_mode": {
    "name": "ipython",
    "version": 3
   },
   "file_extension": ".py",
   "mimetype": "text/x-python",
   "name": "python",
   "nbconvert_exporter": "python",
   "pygments_lexer": "ipython3",
   "version": "3.7.4"
  },
  "toc": {
   "base_numbering": 1,
   "nav_menu": {},
   "number_sections": true,
   "sideBar": true,
   "skip_h1_title": false,
   "title_cell": "Table of Contents",
   "title_sidebar": "Contents",
   "toc_cell": false,
   "toc_position": {
    "height": "calc(100% - 180px)",
    "left": "10px",
    "top": "150px",
    "width": "165px"
   },
   "toc_section_display": true,
   "toc_window_display": true
  }
 },
 "nbformat": 4,
 "nbformat_minor": 2
}
